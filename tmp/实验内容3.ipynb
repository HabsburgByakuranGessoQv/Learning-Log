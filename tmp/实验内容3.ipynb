{
 "cells": [
  {
   "attachments": {},
   "cell_type": "markdown",
   "id": "184140e2",
   "metadata": {},
   "source": [
    "### 代码1\n",
    "对数据进行基本的探索\n",
    "返回缺失值个数以及最大最小值"
   ]
  },
  {
   "cell_type": "code",
   "execution_count": null,
   "id": "25bf8ffc",
   "metadata": {},
   "outputs": [],
   "source": [
    "import pandas as pd\n",
    "datafile= 'air_data.csv'  # 航空原始数据,第一行为属性标签\n",
    "resultfile = 'explore.csv'  # 数据探索结果表\n",
    "# 读取原始数据，指定UTF-8编码（需要用文本编辑器将数据装换为UTF-8编码）\n",
    "data = pd.read_csv(datafile, encoding = 'utf-8')\n",
    "# 包括对数据的基本描述，percentiles参数是指定计算多少的分位数表（如1/4分位数、中位数等）\n",
    "explore = data.describe(percentiles = [], include = 'all').T  # T是转置，转置后更方便查阅\n",
    "explore['null'] = len(data)-explore['count']  # describe()函数自动计算非空值数，需要手动计算空值数\n",
    "explore = explore[['null', 'max', 'min']]\n",
    "explore.columns = ['空值数', '最大值', '最小值']  # 表头重命名\n",
    "print(explore)\n",
    "# 这里只选取部分探索结果。\n",
    "# describe()函数自动计算的字段有count（非空值数）、unique（唯一值数）、top（频数最高者）、\n",
    "# freq（最高频数）、mean（平均值）、std（方差）、min（最小值）、50%（中位数）、max（最大值）"
   ]
  },
  {
   "attachments": {},
   "cell_type": "markdown",
   "id": "839b6835",
   "metadata": {},
   "source": [
    "### 代码2\n",
    "对数据的分布分析"
   ]
  },
  {
   "cell_type": "code",
   "execution_count": null,
   "id": "fb4bbff8",
   "metadata": {},
   "outputs": [],
   "source": [
    "import pandas as pd\n",
    "import matplotlib.pyplot as plt \n",
    "datafile= 'air_data.csv'  # 航空原始数据,第一行为属性标签\n",
    "\n",
    "# 读取原始数据，指定UTF-8编码（需要用文本编辑器将数据装换为UTF-8编码）\n",
    "data = pd.read_csv(datafile, encoding = 'utf-8')\n",
    "\n",
    "# 客户信息类别\n",
    "# 提取会员入会年份\n",
    "from datetime import datetime\n",
    "ffp = data['FFP_DATE'].apply(lambda x:datetime.strptime(x,'%Y/%m/%d'))\n",
    "ffp_year = ffp.map(lambda x : x.year)\n",
    "# 绘制各年份会员入会人数直方图\n",
    "\n"
   ]
  },
  {
   "cell_type": "code",
   "execution_count": null,
   "id": "8adc448b",
   "metadata": {},
   "outputs": [],
   "source": [
    "# 提取会员不同性别人数\n",
    "\n",
    "# 绘制会员性别比例饼图\n",
    "\n"
   ]
  },
  {
   "cell_type": "code",
   "execution_count": null,
   "id": "a04d3bdc",
   "metadata": {},
   "outputs": [],
   "source": [
    "# 提取不同级别会员的人数\n",
    "\n",
    "# 绘制会员各级别人数条形图\n",
    "\n"
   ]
  },
  {
   "cell_type": "code",
   "execution_count": null,
   "id": "77ba77e7",
   "metadata": {},
   "outputs": [],
   "source": [
    "\n",
    "# 提取会员年龄\n",
    "\n",
    "# 绘制会员年龄分布箱型图\n"
   ]
  },
  {
   "cell_type": "code",
   "execution_count": null,
   "id": "bb8e1b17",
   "metadata": {},
   "outputs": [],
   "source": [
    "# 乘机信息类别\n",
    "lte = data['LAST_TO_END']\n",
    "fc = data['FLIGHT_COUNT']\n",
    "sks = data['SEG_KM_SUM']\n",
    "\n",
    "# 绘制最后乘机至结束时长箱线图\n",
    "\n",
    "\n",
    "# 绘制客户飞行次数箱线图\n",
    "\n",
    "\n",
    "# 绘制客户总飞行公里数箱线图\n",
    "\n",
    "\n"
   ]
  },
  {
   "cell_type": "code",
   "execution_count": null,
   "id": "be4e16d2",
   "metadata": {},
   "outputs": [],
   "source": [
    "# 积分信息类别\n",
    "# 提取会员积分兑换次数\n",
    "\n",
    "# 绘制会员兑换积分次数直方图\n",
    "\n",
    "\n",
    "# 提取会员总累计积分\n",
    "\n",
    "# 绘制会员总累计积分箱线图\n",
    "\n",
    "\n"
   ]
  },
  {
   "cell_type": "code",
   "execution_count": null,
   "id": "a2653fa9",
   "metadata": {},
   "outputs": [],
   "source": [
    "# 提取属性并合并为新数据集\n",
    "\n",
    "\n",
    "# 计算相关性矩阵\n",
    "\n",
    "\n",
    "# 绘制热力图\n",
    "\n"
   ]
  },
  {
   "attachments": {},
   "cell_type": "markdown",
   "id": "9259400e",
   "metadata": {},
   "source": [
    "### 代码3\n",
    "处理缺失值与异常值"
   ]
  },
  {
   "cell_type": "code",
   "execution_count": null,
   "id": "50fb9cb0",
   "metadata": {},
   "outputs": [],
   "source": [
    "import numpy as np\n",
    "import pandas as pd\n",
    "datafile = 'air_data.csv'  # 航空原始数据路径\n",
    "cleanedfile = 'data_cleaned.csv'  # 数据清洗后保存的文件路径\n",
    "\n",
    "# 读取数据\n",
    "airline_data = pd.read_csv(datafile,encoding = 'utf-8')\n",
    "print('原始数据的形状为：',airline_data.shape)\n",
    "\n",
    "# 去除票价为空的记录\n",
    "\n",
    "\n",
    "# 只保留票价非零的，或者平均折扣率不为0且总飞行公里数大于0的记录。\n",
    "\n",
    "\n",
    "airline.to_csv(cleanedfile)  # 保存清洗后的数据\n"
   ]
  },
  {
   "attachments": {},
   "cell_type": "markdown",
   "id": "23ec1764",
   "metadata": {},
   "source": [
    "### 代码4\n",
    "属性选择、构造与数据标准化\n"
   ]
  },
  {
   "cell_type": "code",
   "execution_count": null,
   "id": "c62f99c0",
   "metadata": {},
   "outputs": [],
   "source": [
    "import pandas as pd\n",
    "import numpy as np\n",
    "\n",
    "# 读取数据清洗后的数据\n",
    "cleanedfile = 'data_cleaned.csv'  # 数据清洗后保存的文件路径\n",
    "airline = pd.read_csv(cleanedfile, encoding = 'utf-8')\n",
    "# 选取需求属性\n",
    "airline_selection = airline[['FFP_DATE','LOAD_TIME','LAST_TO_END',\n",
    "                                     'FLIGHT_COUNT','SEG_KM_SUM','avg_discount']]\n",
    "print('筛选的属性前5行为：\\n',airline_selection.head())\n",
    "# 构造属性L\n",
    "L = pd.to_datetime(airline_selection['LOAD_TIME']) - \\\n",
    "pd.to_datetime(airline_selection['FFP_DATE'])\n",
    "L = L.astype('str').str.split().str[0]\n",
    "L = L.astype('int')/30\n",
    "\n",
    "# 合并属性\n",
    "airline_features = pd.concat([L,airline_selection.iloc[:,2:]],axis = 1)\n",
    "airline_features.columns = ['L','R','F','M','C']\n",
    "print('构建的LRFMC属性前5行为：\\n',airline_features.head())\n",
    "\n",
    "# 数据标准化\n",
    "# import sklearn\n",
    "from sklearn.preprocessing import StandardScaler\n",
    "data = StandardScaler().fit_transform(airline_features)\n",
    "np.savez('./tmp/airline_scale.npz',data)\n",
    "print('标准化后LRFMC五个属性为：\\n',data[:5,:])"
   ]
  },
  {
   "attachments": {},
   "cell_type": "markdown",
   "id": "7d7509da",
   "metadata": {},
   "source": [
    "### 代码5\n",
    "聚类"
   ]
  },
  {
   "cell_type": "code",
   "execution_count": null,
   "id": "c62adace",
   "metadata": {},
   "outputs": [],
   "source": [
    "import pandas as pd\n",
    "import numpy as np\n",
    "from sklearn.cluster import KMeans  # 导入kmeans算法\n",
    "\n",
    "# 读取标准化后的数据\n",
    "airline_scale = np.load('./tmp/airline_scale.npz')['arr_0']\n",
    "k =   # 确定聚类中心数\n",
    "\n",
    "# 构建模型\n",
    "\n",
    "\n",
    "\n",
    "\n",
    "# 查看聚类结果\n",
    "\n",
    "\n",
    "\n",
    "# 输出聚类分群的结果\n",
    "\n",
    "\n",
    "\n",
    "\n",
    "# 客户分群雷达图\n",
    "\n",
    "\n",
    "\n"
   ]
  },
  {
   "attachments": {},
   "cell_type": "markdown",
   "id": "4836aeaf",
   "metadata": {},
   "source": [
    "### 代码6\n",
    "比较不同聚类算法的聚类效果"
   ]
  },
  {
   "cell_type": "code",
   "execution_count": null,
   "id": "d6c3f03e",
   "metadata": {},
   "outputs": [],
   "source": []
  }
 ],
 "metadata": {
  "kernelspec": {
   "display_name": "Python 3 (ipykernel)",
   "language": "python",
   "name": "python3"
  },
  "language_info": {
   "codemirror_mode": {
    "name": "ipython",
    "version": 3
   },
   "file_extension": ".py",
   "mimetype": "text/x-python",
   "name": "python",
   "nbconvert_exporter": "python",
   "pygments_lexer": "ipython3",
   "version": "3.10.9"
  },
  "varInspector": {
   "cols": {
    "lenName": 16,
    "lenType": 16,
    "lenVar": 40
   },
   "kernels_config": {
    "python": {
     "delete_cmd_postfix": "",
     "delete_cmd_prefix": "del ",
     "library": "var_list.py",
     "varRefreshCmd": "print(var_dic_list())"
    },
    "r": {
     "delete_cmd_postfix": ") ",
     "delete_cmd_prefix": "rm(",
     "library": "var_list.r",
     "varRefreshCmd": "cat(var_dic_list()) "
    }
   },
   "types_to_exclude": [
    "module",
    "function",
    "builtin_function_or_method",
    "instance",
    "_Feature"
   ],
   "window_display": false
  }
 },
 "nbformat": 4,
 "nbformat_minor": 5
}
