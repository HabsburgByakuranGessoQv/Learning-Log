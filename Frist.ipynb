{
 "cells": [
  {
   "cell_type": "code",
   "execution_count": 15,
   "metadata": {},
   "outputs": [
    {
     "name": "stdout",
     "output_type": "stream",
     "text": [
      "1.12.1+cu116\n",
      "True\n"
     ]
    }
   ],
   "source": [
    "import torch\n",
    "\n",
    "# 检测torch环境是否可用\n",
    "print(torch.__version__)\n",
    "print(torch.cuda.is_available())"
   ]
  },
  {
   "cell_type": "markdown",
   "metadata": {},
   "source": [
    "# 1.\n",
    "使用 Tensor初始化一个1x3的矩阵 M 和一个2x1的矩阵 N，对两短阵进行减法操作(要求实现三种不同的形式)，给出结果并分析三种方式的不同(如果出现报错，分析报错的原因)，司时需要指出在计算过程中发生了什么"
   ]
  },
  {
   "cell_type": "code",
   "execution_count": 19,
   "metadata": {},
   "outputs": [
    {
     "name": "stdout",
     "output_type": "stream",
     "text": [
      "******************** 第一题 ********************\n",
      "方法一: tensor([[ 0.,  1.,  2.],\n",
      "        [-1.,  0.,  1.]])\n",
      "方法二: tensor([[ 0.,  1.,  2.],\n",
      "        [-1.,  0.,  1.]])\n",
      "方法三 tensor([[ 0.,  1.,  2.],\n",
      "        [-1.,  0.,  1.]])\n"
     ]
    }
   ],
   "source": [
    "# 第一题\n",
    "print('*'*20, '第一题', '*'*20)\n",
    "# 初始化 A 和 B\n",
    "M = torch.Tensor([1, 2, 3])\n",
    "N = torch.Tensor([[1], [2]])\n",
    "\n",
    "# 方式一：使用 torch.sub() 函数进行减法操作\n",
    "res1 = torch.sub(M, N)\n",
    "\n",
    "# 方式二：使用 - 运算符进行减法操作\n",
    "res2 = M - N\n",
    "\n",
    "# 方式三：使用 torch.add() 函数进行加法操作，并传递负数作为参数\n",
    "res3 = torch.add(M, torch.neg(N))\n",
    "\n",
    "# 打印结果\n",
    "print(\"方法一:\", res1)\n",
    "print(\"方法二:\", res2)\n",
    "print(\"方法三\", res3)"
   ]
  },
  {
   "cell_type": "markdown",
   "metadata": {},
   "source": [
    "### 减法方法\n",
    "(1) 使用 torch.sub() 函数进行减法操作，该函数会将两个输入张量的元素逐元素相减。\n",
    "(2) 使用 - 运算符进行减法操作，这种方式与第一种方式本质上是相同的，只是使用了运算符的简写形式。\n",
    "(3) 使用 torch.add() 函数进行加法操作，并将 -N 作为第二个参数传递给该函数，以实现减法操作。这种方式的优点是可以将任何二元操作转换为加法操作，但是需要将其中一个参数乘以 -1。"
   ]
  },
  {
   "cell_type": "markdown",
   "metadata": {},
   "source": [
    "# 2.\n",
    "(1) 利用 Tensor 创建两个大小分别 3x2 和4x2的随机数矩阵P和Q，要求服从均值为0，标准差0.01为的正态分布\n",
    "(2) 对第二步得到的阵 进行形状变换得到 的转置 Q^T\n",
    "(3) 对上述得到的矩阵P和矩阵 Q^T 求内积"
   ]
  },
  {
   "cell_type": "code",
   "execution_count": 17,
   "metadata": {},
   "outputs": [
    {
     "name": "stdout",
     "output_type": "stream",
     "text": [
      "******************** 第二题 ********************\n",
      "P:\n",
      " tensor([[-0.0050,  0.0143],\n",
      "        [ 0.0047, -0.0081],\n",
      "        [ 0.0038,  0.0028]])\n",
      "Q:\n",
      " tensor([[-0.0190, -0.0009],\n",
      "        [ 0.0017, -0.0224],\n",
      "        [-0.0080,  0.0022],\n",
      "        [ 0.0194,  0.0024]])\n",
      "内积结果:\n",
      " tensor([[ 8.3229e-05, -3.2897e-04,  7.1044e-05, -6.3631e-05],\n",
      "        [-8.2533e-05,  1.8945e-04, -5.5094e-05,  7.2181e-05],\n",
      "        [-7.4842e-05, -5.7141e-05, -2.4256e-05,  8.0655e-05]])\n"
     ]
    }
   ],
   "source": [
    "# 第二题\n",
    "print('*'*20, '第二题', '*'*20)\n",
    "\n",
    "# 创建大小分别为 3x2 和 4x2 的随机数矩阵\n",
    "P = torch.randn(3, 2) * 0.01\n",
    "Q = torch.randn(4, 2) * 0.01\n",
    "\n",
    "print('P:\\n', P)\n",
    "print('Q:\\n', Q)\n",
    "\n",
    "# 对 P 进行形状变换得到 Q 的转置\n",
    "QT = Q.t()\n",
    "\n",
    "# 对 P 和 QT 求内积\n",
    "res_2 = torch.mm(P, QT)\n",
    "print('内积结果:\\n', res_2)"
   ]
  },
  {
   "cell_type": "markdown",
   "metadata": {},
   "source": [
    "# 3.\n",
    "给定公式 𝑦3 = 𝑦1 + 𝑦2 = 𝑥^2 + 𝑥^3\n",
    "，且 𝑥 = 1。利用学习所得到的Tensor的相关知识，求𝑦3对的梯\n",
    "度𝑥，即𝑑𝑦3/𝑑𝑥 。\n",
    "要求首先需要将给定的公式转化为 PyTorch 中的表达式，即先定义变量 x 和 y1，然后通过 y3 = y1 + y2 和 y1 = x^2 得到 y3。然后再调用 backward() 方法计算梯度。\n",
    "***\n",
    "### 解:\n",
    "在计算过程中，需要使用 torch.no_grad() 上下文管理器来中断对 x^3 的梯度追踪，因为我们只需要求解 dy3/dx，而 dy3/dx^3=0，不需要对 x^3 求梯度。在计算过程中，在计算 𝑥^3 时中断梯度的追踪，观察结果并进行原因分析\n",
    "提示, 可使用 with torch.no_grad()， 举例:\n",
    "with torch.no_grad():\n",
    "y2 = x * 3"
   ]
  },
  {
   "cell_type": "code",
   "execution_count": 18,
   "metadata": {},
   "outputs": [
    {
     "name": "stdout",
     "output_type": "stream",
     "text": [
      "******************** 第三题 ********************\n",
      "tensor(2.)\n"
     ]
    }
   ],
   "source": [
    "# 第三题\n",
    "print('*'*20, '第三题', '*'*20)\n",
    "# 定义变量 x 和 y1\n",
    "x = torch.tensor(1.0, requires_grad=True)\n",
    "y1 = x ** 2\n",
    "\n",
    "# 使用 torch.no_grad() 中断梯度追踪，计算 y2 = x^3\n",
    "with torch.no_grad():\n",
    "    y2 = x ** 3\n",
    "\n",
    "# 计算 y3 = y1 + y2\n",
    "y3 = y1 + y2\n",
    "\n",
    "# 计算 dy3/dx\n",
    "y3.backward()\n",
    "\n",
    "# 输出结果，即 dy3/dx\n",
    "print(x.grad)"
   ]
  },
  {
   "cell_type": "code",
   "execution_count": 14,
   "metadata": {},
   "outputs": [],
   "source": []
  }
 ],
 "metadata": {
  "kernelspec": {
   "display_name": "Python 3 (ipykernel)",
   "language": "python",
   "name": "python3"
  },
  "language_info": {
   "codemirror_mode": {
    "name": "ipython",
    "version": 3
   },
   "file_extension": ".py",
   "mimetype": "text/x-python",
   "name": "python",
   "nbconvert_exporter": "python",
   "pygments_lexer": "ipython3",
   "version": "3.9.7"
  }
 },
 "nbformat": 4,
 "nbformat_minor": 1
}
