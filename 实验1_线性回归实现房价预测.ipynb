{
 "cells": [
  {
   "cell_type": "markdown",
   "id": "concerned-response",
   "metadata": {},
   "source": [
    "\n",
    "# 线性回归实现房价预测\n",
    "使用matplotlib、numpy、`sklearn.linear_model. LinearRegression`，基于sklearn库中的波士顿房价数据集，应用线性回归（Linera Regression） 算法，实现波士顿房价预测。\n"
   ]
  },
  {
   "cell_type": "code",
   "execution_count": 1,
   "id": "banner-cruise",
   "metadata": {},
   "outputs": [],
   "source": [
    "import numpy as np\n",
    "import pandas as pd\n",
    "from matplotlib import pyplot as plt\n",
    "# LinearRegression 普通最小二乘线性回归\n",
    "import sklearn.linear_model\n",
    "# 导入波士顿房价数据集\n",
    "from sklearn.datasets import load_boston\n",
    "# 实验中用到的回归模型\n",
    "from sklearn.linear_model import LinearRegression\n",
    "from sklearn.linear_model import Ridge\n",
    "from sklearn.linear_model import Lasso\n",
    "from sklearn.linear_model import ElasticNet\n",
    "from sklearn.utils import check_random_state\n",
    "# 数据划分\n",
    "from sklearn.model_selection import train_test_split\n",
    "# 均方误差\n",
    "from sklearn.metrics import mean_squared_error\n",
    "plt.rc('font', size=14)\n",
    "import warnings\n",
    "warnings.filterwarnings(\"ignore\")\n",
    "\n"
   ]
  },
  {
   "cell_type": "markdown",
   "id": "interstate-devices",
   "metadata": {},
   "source": [
    "### 1  读取数据并显示前5行"
   ]
  },
  {
   "cell_type": "code",
   "execution_count": 2,
   "id": "proprietary-olive",
   "metadata": {},
   "outputs": [],
   "source": [
    "# 读取波士顿房价数据集\n",
    "boston = load_boston() #加载数据\n",
    "boston_dataset = pd.DataFrame(boston.data, columns=boston.feature_names)\n",
    "# MEDV是房价中位数即标签\n",
    "boston_dataset['MEDV'] =  boston.target\n",
    "# 展示前五条数\n",
    "# 示例"
   ]
  },
  {
   "cell_type": "code",
   "execution_count": 3,
   "id": "entire-interference",
   "metadata": {},
   "outputs": [],
   "source": [
    "# 划分数据集\n",
    "x_train, x_test, y_train, y_test = train_test_split(boston.data, boston.target,random_state=1)"
   ]
  },
  {
   "cell_type": "markdown",
   "id": "present-treat",
   "metadata": {},
   "source": [
    "### 2 调用LinearRegression、Ridge、Lasso和ElasticNet函数（默认参数）并补全代码"
   ]
  },
  {
   "cell_type": "code",
   "execution_count": null,
   "id": "characteristic-exclusion",
   "metadata": {},
   "outputs": [],
   "source": [
    "'''\n",
    "sklearn中提供了许多种不同类型的线性回归函数模型，普通回归模型（无正则化项）、L1正则（Lasso模型）、L2正则（Ridge模型）\n",
    "和弹性网ElasticNet（L1正则+L2正则）。这里我们采用四个回归模型进行实验：\n",
    "\n",
    "1、LinearRegression；2、Ridge；3、Lasso；4、ElasticNet\n",
    "\n",
    "其中模型参数中我们最常用的就是alpha正则化力度；LinearRegression中无正则化项。对Ridge、Lasso和ElasticNet三种模型分别采用不同的alpha\n",
    "例如 alpha=1、alpha=10、alpha=20。l1_ratio:在0到1之间，代表在l1惩罚和l2惩罚之间，如果l1_ratio=1，则为lasso，若l1_ratio=0，则为Ridge。\n",
    "查看其拟合结果r2。然后以x轴为测试值，y轴为预测值画图展示。\n",
    "\n",
    "'''\n",
    "# 动手实现模型的调用model2 = LinearRegression()\n",
    "# 使用fit()给其x,y实例化一个线性回归\n",
    "# 训练模型，确定参数\n",
    "# 线性回归问题的估计系数\n",
    "# 线性模型中的截距\n",
    "# 根据得到的系数和截距打印回归方程print(' y = {0} * x + {1}'.format(m, b))\n",
    "# 使用LinearRegression().score函数计算X和y之间的拟合度并打印拟合度\n",
    "# 打印r2指标取值约接近拟合程度越好\n",
    "# alpha正则化力度，必须是一个正浮点数，较大的值指定了更强的正则化\n",
    "\n",
    "'''\n",
    "//==========================================================================================//\n",
    "//=====================================请在此编写实验代码===================================//\n",
    "//==========================================================================================//\n",
    "'''\n",
    "\n",
    "\n"
   ]
  },
  {
   "cell_type": "markdown",
   "id": "covered-glucose",
   "metadata": {},
   "source": [
    "### 3 根据以上代码调整Ridge、Lasso中的正则化力度参数alpha，选用不同的值，例如alpha=1、alpha=10的时候测试结果并打印，ElasticNet函数只修改l1_ratio参数的值为0.2和0.8，查看实验结果并打印。"
   ]
  },
  {
   "cell_type": "markdown",
   "id": "extensive-negative",
   "metadata": {},
   "source": [
    "### 4 以x轴为测试值，y轴为预测值画图展示。绘制LinearRegression和使用不同alpha的Ridge、Lasso和ElasticNet拟合效果最好的四幅图"
   ]
  },
  {
   "cell_type": "code",
   "execution_count": 1,
   "id": "suitable-joshua",
   "metadata": {},
   "outputs": [
    {
     "ename": "NameError",
     "evalue": "name 'plt' is not defined",
     "output_type": "error",
     "traceback": [
      "\u001b[1;31m---------------------------------------------------------------------------\u001b[0m",
      "\u001b[1;31mNameError\u001b[0m                                 Traceback (most recent call last)",
      "Input \u001b[1;32mIn [1]\u001b[0m, in \u001b[0;36m<cell line: 1>\u001b[1;34m()\u001b[0m\n\u001b[1;32m----> 1\u001b[0m \u001b[43mplt\u001b[49m\u001b[38;5;241m.\u001b[39mscatter(y_test, model1\u001b[38;5;241m.\u001b[39mpredict(x_test),color\u001b[38;5;241m=\u001b[39m\u001b[38;5;124m'\u001b[39m\u001b[38;5;124mg\u001b[39m\u001b[38;5;124m'\u001b[39m)\n\u001b[0;32m      2\u001b[0m plt\u001b[38;5;241m.\u001b[39mplot([y_test\u001b[38;5;241m.\u001b[39mmin(), y_test\u001b[38;5;241m.\u001b[39mmax()], [y_test\u001b[38;5;241m.\u001b[39mmin(), y_test\u001b[38;5;241m.\u001b[39mmax()])\n\u001b[0;32m      3\u001b[0m plt\u001b[38;5;241m.\u001b[39mshow()\n",
      "\u001b[1;31mNameError\u001b[0m: name 'plt' is not defined"
     ]
    }
   ],
   "source": [
    "# 绘图展示\n",
    "plt.scatter(y_test, model1.predict(x_test),color='g')\n",
    "plt.plot([y_test.min(), y_test.max()], [y_test.min(), y_test.max()])\n",
    "plt.show()"
   ]
  },
  {
   "cell_type": "markdown",
   "id": "utility-exhibit",
   "metadata": {},
   "source": [
    "思考：比较不同回归模型以及不同正则化力度alpha的差异，总结出哪一种方法较好。"
   ]
  },
  {
   "cell_type": "code",
   "execution_count": 5,
   "id": "oriented-discharge",
   "metadata": {},
   "outputs": [],
   "source": []
  }
 ],
 "metadata": {
  "kernelspec": {
   "display_name": "Python 3",
   "language": "python",
   "name": "python3"
  },
  "language_info": {
   "codemirror_mode": {
    "name": "ipython",
    "version": 3
   },
   "file_extension": ".py",
   "mimetype": "text/x-python",
   "name": "python",
   "nbconvert_exporter": "python",
   "pygments_lexer": "ipython3",
   "version": "3.6.9"
  }
 },
 "nbformat": 4,
 "nbformat_minor": 5
}
