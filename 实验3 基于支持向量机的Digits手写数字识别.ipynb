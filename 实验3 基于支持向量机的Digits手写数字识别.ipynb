{
 "cells": [
  {
   "cell_type": "markdown",
   "metadata": {},
   "source": [
    "# 基于支持向量机的Digits手写数字识别"
   ]
  },
  {
   "cell_type": "markdown",
   "metadata": {},
   "source": [
    "## 1、加载查看Digits数据集"
   ]
  },
  {
   "cell_type": "code",
   "execution_count": 2,
   "metadata": {},
   "outputs": [
    {
     "name": "stdout",
     "output_type": "stream",
     "text": [
      "(1797, 64) (1797,)\n"
     ]
    },
    {
     "ename": "TypeError",
     "evalue": "'str' object cannot be interpreted as an integer",
     "output_type": "error",
     "traceback": [
      "\u001b[1;31m---------------------------------------------------------------------------\u001b[0m",
      "\u001b[1;31mTypeError\u001b[0m                                 Traceback (most recent call last)",
      "Input \u001b[1;32mIn [2]\u001b[0m, in \u001b[0;36m<cell line: 16>\u001b[1;34m()\u001b[0m\n\u001b[0;32m     18\u001b[0m     \u001b[38;5;66;03m# matshow方法将像素矩阵显示为图片\u001b[39;00m\n\u001b[0;32m     19\u001b[0m     \u001b[38;5;66;03m# data中的图片像素为长度64的一维数组，需要转成8*8的二维数组来显示\u001b[39;00m\n\u001b[0;32m     20\u001b[0m     \u001b[38;5;124;03m'''\u001b[39;00m\n\u001b[0;32m     21\u001b[0m \u001b[38;5;124;03m    matplotlib中提供了matshow()函数,它能将一个二维数组以图片的形式输出，\u001b[39;00m\n\u001b[0;32m     22\u001b[0m \u001b[38;5;124;03m    其需要的参数为一个二维数组，我们需要使用reshape()函数将原有的一维数组转化为二维数组。\u001b[39;00m\n\u001b[0;32m     23\u001b[0m \u001b[38;5;124;03m    本试验所使用的数据集图片为8*8的图片，请按此要求输入reshape函数的参数\u001b[39;00m\n\u001b[0;32m     24\u001b[0m \u001b[38;5;124;03m    '''\u001b[39;00m\n\u001b[1;32m---> 25\u001b[0m     ax\u001b[38;5;241m.\u001b[39mmatshow(\u001b[43mdata\u001b[49m\u001b[43m[\u001b[49m\u001b[43mi\u001b[49m\u001b[43m]\u001b[49m\u001b[38;5;241;43m.\u001b[39;49m\u001b[43mreshape\u001b[49m\u001b[43m(\u001b[49m\u001b[38;5;124;43m'''\u001b[39;49m\u001b[38;5;124;43m请按要求输入参数\u001b[39;49m\u001b[38;5;124;43m'''\u001b[39;49m\u001b[43m)\u001b[49m)\n\u001b[0;32m     28\u001b[0m plt\u001b[38;5;241m.\u001b[39mshow()\n",
      "\u001b[1;31mTypeError\u001b[0m: 'str' object cannot be interpreted as an integer"
     ]
    },
    {
     "data": {
      "image/png": "[encoded data removed]",
      "text/plain": [
       "<Figure size 576x576 with 1 Axes>"
      ]
     },
     "metadata": {},
     "output_type": "display_data"
    }
   ],
   "source": [
    "import warnings\n",
    "warnings.filterwarnings('ignore')\n",
    "from sklearn.datasets import load_digits\n",
    "from sklearn.model_selection import train_test_split\n",
    "from sklearn.svm import SVC\n",
    "import matplotlib.pyplot as plt\n",
    "\n",
    "# 加载Digits数据集\n",
    "digits = load_digits()\n",
    "data = digits.data # 样本数据\n",
    "target = digits.target # 标签数据\n",
    "print(data.shape, target.shape) # 输出数组形状\n",
    "\n",
    "# 使用Matplotlib，显示前20张图片\n",
    "fig = plt.figure(figsize=(8, 8), facecolor='w')\n",
    "for i in range(20):\n",
    "    ax = fig.add_subplot(4, 5, i+1) \n",
    "    # matshow方法将像素矩阵显示为图片\n",
    "    # data中的图片像素为长度64的一维数组，需要转成8*8的二维数组来显示\n",
    "    '''\n",
    "    matplotlib中提供了matshow()函数,它能将一个二维数组以图片的形式输出，\n",
    "    其需要的参数为一个二维数组，我们需要使用reshape()函数将原有的一维数组转化为二维数组。\n",
    "    本试验所使用的数据集图片为8*8的图片，请按此要求输入reshape函数的参数\n",
    "    '''\n",
    "    ax.matshow(data[i].reshape('''请按要求输入参数'''))\n",
    "\n",
    "    \n",
    "plt.show()"
   ]
  },
  {
   "cell_type": "markdown",
   "metadata": {},
   "source": [
    "## 2、拆分数据集、创建模型"
   ]
  },
  {
   "cell_type": "code",
   "execution_count": 3,
   "metadata": {},
   "outputs": [
    {
     "name": "stdout",
     "output_type": "stream",
     "text": [
      "(359, 64) (1438, 64)\n"
     ]
    },
    {
     "data": {
      "text/plain": [
       "'\\n//=============================请参照代码范例编写本实验的实验代码===========================//\\n'"
      ]
     },
     "execution_count": 3,
     "metadata": {},
     "output_type": "execute_result"
    }
   ],
   "source": [
    "'''\n",
    "    1.SVC可选的和函数参数有很多，请查看SVC函数的文档，学习不同参数，使用不同的核函数建立模型并进行实验。\n",
    "        |___    kernel : {'linear', 'poly', 'rbf', 'sigmoid', 'precomputed'} or callable,\n",
    "                default='rbf'\n",
    "                Specifies the kernel type to be used in the algorithm.\n",
    "                If none is given, 'rbf' will be used. If a callable is given it is\n",
    "                used to pre-compute the kernel matrix from data matrices; that matrix\n",
    "                should be an array of shape ``(n_samples, n_samples)``.\n",
    "    \n",
    "    2.推荐使用python字典配合循环 块批量定义不同参数的SVC模型，以精简代码，便于后续改进工作的进行;\n",
    "    也可以定义完模型后重复编写代码调用模型进行拟合，这样使用更为简单直接，但复用性不高。\n",
    "        |___    e.g. model = {}\n",
    "        |            model['key1'] = SVC(\"parameter1\")\n",
    "        |            model['key2'] = SVC(\"parameter2\")\n",
    "        |            for key ,value in modelss.items():\n",
    "        |                model = value.fit(X_train, y_train)\n",
    "        |                score = model.score(X_test, y_test)\n",
    "        |                print(\"%s score is : %.2f\" %(key, score))\n",
    "        |                y_pred = model.predict(X_test[:20])\n",
    "        |                print('%s验证的预测数字：'%key, y_pred)\n",
    "        |                print('%s验证的实际数字：'%key, y_test[:20])\n",
    "        |                print(\"\\n\")\n",
    "        |\n",
    "        |\n",
    "        |\n",
    "        |\n",
    "        |\n",
    "        |___    e.g. model1 = SVC(\"parameter1\").fit(X_train, y_train)\n",
    "                     score1 = model1.score(X_test, y_test)\n",
    "                     print(\"model1 score is: \")\n",
    "                     y_pred = model1.predict(X_test[:20])\n",
    "                     print('%s验证的预测数字：'%key, y_pred)\n",
    "                     print('%s验证的实际数字：'%key, y_test[:20])\n",
    "                     print(\"\\n\")\n",
    "                     \n",
    "                     model2 = SVC(\"parameter2\").fit(X_train, y_train)\n",
    "                     score2 = model2.score(X_test, y_test)\n",
    "                     print(\"model2 score is: \")\n",
    "                     y_pred = model2.predict(X_test[:20])\n",
    "                     print('%s验证的预测数字：'%key, y_pred)\n",
    "                     print('%s验证的实际数字：'%key, y_test[:20])\n",
    "                     print(\"\\n\")\n",
    "    \n",
    "\n",
    "'''\n",
    "\n",
    "# 拆分数据集\n",
    "X_train, X_test, y_train, y_test = train_test_split(data, target, \n",
    "                                                    test_size=0.8, random_state=5)\n",
    "print(X_train.shape, X_test.shape)\n",
    "\n",
    "# 创建模型、获取试验结果\n",
    "\"\"\"\n",
    "//=============================请参照代码范例编写本实验的实验代码===========================//\n",
    "\"\"\""
   ]
  },
  {
   "cell_type": "markdown",
   "metadata": {},
   "source": [
    "## 3、SVC参数的修改\n",
    "### 3.1、正则化系数C的修改"
   ]
  },
  {
   "cell_type": "code",
   "execution_count": 38,
   "metadata": {},
   "outputs": [
    {
     "data": {
      "text/plain": [
       "'\\n请分别记录四种核函数在正则化参数C分别为0.01, 0.05, 0.1, 0.5, 1时的模型准确率\\n'"
      ]
     },
     "execution_count": 38,
     "metadata": {},
     "output_type": "execute_result"
    }
   ],
   "source": [
    "\"\"\"\n",
    "1. 正则化的强度与C的大小成反比，且必须为正。\n",
    "2. 主要是用来防止模型过拟合\n",
    "3. C值越大，对模型的惩罚越高，泛化能力越弱（但有可能导致过拟合）\n",
    "4. 反之，C值越小，对模型的惩罚越低，泛化能力越强（但有可能导致欠拟合）\n",
    "\"\"\"\n",
    "\"\"\"\n",
    "请分别记录四种核函数在正则化参数C分别为0.01, 0.05, 0.1, 0.5, 1时的模型准确率\n",
    "\"\"\""
   ]
  },
  {
   "cell_type": "code",
   "execution_count": null,
   "metadata": {},
   "outputs": [],
   "source": [
    "\"\"\"\n",
    "//===================请在此创建模型并记录各个参数下模型的正确率=======================//\n",
    "\"\"\""
   ]
  },
  {
   "cell_type": "markdown",
   "metadata": {},
   "source": [
    "## 3.2、多项式核多项式维度degree的修改"
   ]
  },
  {
   "cell_type": "code",
   "execution_count": null,
   "metadata": {},
   "outputs": [],
   "source": [
    "\"\"\"\n",
    "1. 该参数只有在使用多项式核函数的时候才有用，使用其他核函数自动忽略此参数\n",
    "2. 用来确定多项式核函数的维度，即n的值\n",
    "\"\"\"\n",
    "\n",
    "\"\"\"\n",
    "请分别记录多项式核函数下维度参数为1, 3, 5, 7, 9时的模型准确率\n",
    "\"\"\""
   ]
  },
  {
   "cell_type": "code",
   "execution_count": null,
   "metadata": {},
   "outputs": [],
   "source": [
    "\"\"\"\n",
    "//===================请在此创建模型并记录各个参数下模型的正确率=======================//\n",
    "\"\"\""
   ]
  }
 ],
 "metadata": {
  "kernelspec": {
   "display_name": "Python 3 (ipykernel)",
   "language": "python",
   "name": "python3"
  },
  "language_info": {
   "codemirror_mode": {
    "name": "ipython",
    "version": 3
   },
   "file_extension": ".py",
   "mimetype": "text/x-python",
   "name": "python",
   "nbconvert_exporter": "python",
   "pygments_lexer": "ipython3",
   "version": "3.9.12"
  }
 },
 "nbformat": 4,
 "nbformat_minor": 4
}
