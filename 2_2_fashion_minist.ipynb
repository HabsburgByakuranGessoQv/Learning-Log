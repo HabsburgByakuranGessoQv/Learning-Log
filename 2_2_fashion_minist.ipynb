{
 "cells": [
  {
   "cell_type": "code",
   "execution_count": 23,
   "id": "7f04f3e1",
   "metadata": {},
   "outputs": [],
   "source": [
    "## 导入各种库\n",
    "import torch\n",
    "import torchvision\n",
    "from torch.utils import data\n",
    "from torchvision import transforms\n",
    "from torchvision import datasets\n",
    "import torch.nn as nn\n",
    "import numpy as np\n",
    "import matplotlib.pyplot as plt"
   ]
  },
  {
   "cell_type": "code",
   "execution_count": 24,
   "id": "d395e1e8",
   "metadata": {},
   "outputs": [],
   "source": [
    "# 下载数据并将所有数据转换为 𝐓𝐞𝐧𝐬𝐨𝐫 ，train为是否训练数据集，download默认网上下载\n",
    "data_path='D:\\深度学习课件（刘）\\PPT 2023春\\experiment\\homework'  # 根据需要自己定义路径\n",
    "mnist_train = torchvision.datasets.FashionMNIST(data_path, train=True, download=False, transform=transforms.ToTensor()) \n",
    "mnist_test = torchvision.datasets.FashionMNIST(data_path, train=False, download=False, transform=transforms.ToTensor())\n",
    "\n"
   ]
  },
  {
   "cell_type": "code",
   "execution_count": 25,
   "id": "6dcb9d61",
   "metadata": {},
   "outputs": [
    {
     "data": {
      "text/plain": [
       "(torch.Size([1, 28, 28]), 0)"
      ]
     },
     "execution_count": 25,
     "metadata": {},
     "output_type": "execute_result"
    }
   ],
   "source": [
    "img_t,label = mnist_train[101]\n",
    "img_t.shape,label"
   ]
  },
  {
   "cell_type": "code",
   "execution_count": 26,
   "id": "923fed53",
   "metadata": {},
   "outputs": [
    {
     "data": {
      "text/plain": [
       "469"
      ]
     },
     "execution_count": 26,
     "metadata": {},
     "output_type": "execute_result"
    }
   ],
   "source": [
    "# 通过 𝐃𝐚𝐭𝐚𝐋𝐨𝐚𝐝𝐞𝐫 读取小批量数据样本，shuffle是否打乱顺序，num_workers为进程的个数\n",
    "batch_size = 128 \n",
    "train_iter = torch.utils.data.DataLoader(mnist_train, batch_size=batch_size, shuffle=True, num_workers=0) \n",
    "test_iter = torch.utils.data.DataLoader(mnist_test, batch_size=batch_size, shuffle=False, num_workers=0)\n",
    "len(train_iter)"
   ]
  },
  {
   "cell_type": "code",
   "execution_count": 27,
   "id": "3d2f8913",
   "metadata": {},
   "outputs": [],
   "source": [
    "## 参数初始化\n",
    "num_inputs = 784# 拉成向量的长度\n",
    "num_hiddens=256 #隐藏层的神经元数\n",
    "num_outputs = 10# 分类的类别个数\n",
    "W1 = torch.normal(0, 0.01, size=(num_inputs, num_hiddens))# 权重的高斯随机初始化\n",
    "b1 = torch.zeros(num_hiddens)                             # 偏移的随机初始化\n",
    "W2 = torch.normal(0, 0.01, size=(num_hiddens, num_outputs))# 权重的高斯随机初始化\n",
    "b2 = torch.zeros(num_outputs)  \n",
    "params=[W1,b1,W2,b2]\n",
    "\n",
    "for param in params:\n",
    "    param.requires_grad_(requires_grad=True)"
   ]
  },
  {
   "cell_type": "code",
   "execution_count": 28,
   "id": "0472fd2c",
   "metadata": {},
   "outputs": [],
   "source": [
    "#选用常用ReLU作为激活函数\n",
    "#def relu(z):\n",
    " #   z=np.where(z>0,z,0)\n",
    " #   return  torch.tensor(z)\n",
    "def relu(X): # 激活函数\n",
    "    return torch.max(input=X, other=torch.tensor(0.0))\n",
    "    # 使用基础的max函数来实现ReLU，而非直接调用relu函数"
   ]
  },
  {
   "cell_type": "code",
   "execution_count": 29,
   "id": "abbb3d91",
   "metadata": {},
   "outputs": [],
   "source": [
    "## 网络\n",
    "# 定义Softmax\n",
    "def softmax(X):\n",
    "    return torch.exp(X) / torch.exp(X).sum()  # 这里应用了广播机制\n"
   ]
  },
  {
   "cell_type": "code",
   "execution_count": 30,
   "id": "d302e383",
   "metadata": {},
   "outputs": [],
   "source": [
    "# 定义网络模型\n",
    "\n",
    "def net(X): # 定义模型结构\n",
    "    X = X.view((-1, num_inputs)) # view函数将每张原始图像改成长度为num_inputs的向量\n",
    "    H = relu(torch.matmul(X, W1) + b1)\n",
    "    return torch.matmul(H, W2) + b2\n",
    "#    return nn.LogSoftmax(torch.matmul(H, W2) + b2)\n"
   ]
  },
  {
   "cell_type": "code",
   "execution_count": 31,
   "id": "d7702178",
   "metadata": {},
   "outputs": [],
   "source": [
    "## 交叉熵损失\n",
    "loss = torch.nn.CrossEntropyLoss() # 损失函数  \n",
    "## 交叉熵损失\n",
    "#loss=nn.NLLloss()"
   ]
  },
  {
   "cell_type": "code",
   "execution_count": 32,
   "id": "c8a550b6",
   "metadata": {},
   "outputs": [],
   "source": [
    "## 梯度下降\n",
    "def sgd(params, lr, batch_size): \n",
    "    for param in params: \n",
    "        param.data -= lr * param.grad / batch_size  # 注意这里更改param时用的param.data"
   ]
  },
  {
   "cell_type": "code",
   "execution_count": 33,
   "id": "1a8c6008",
   "metadata": {},
   "outputs": [],
   "source": [
    "#计算模型在某个数据集上的准确率\n",
    "def evaluate_accuracy(data_iter, net):\n",
    "    acc_sum, n = 0.0, 0\n",
    "    for X, y in data_iter:\n",
    "        acc_sum += (softmax(net(X)).argmax(dim=1) == y).float().sum().item()\n",
    "        n += y.shape[0]\n",
    "    return acc_sum / n           \n"
   ]
  },
  {
   "cell_type": "code",
   "execution_count": 36,
   "id": "87cbf1cf",
   "metadata": {},
   "outputs": [],
   "source": [
    "#定义模型训练函数\n",
    "def train(net, train_iter, test_iter, num_epochs, batch_size,\n",
    "              params, optimizer = None):\n",
    "    for epoch in range(num_epochs):\n",
    "        train_l_sum, train_acc_sum, n = 0.0, 0.0, 0\n",
    "        for X, y_hat in train_iter:\n",
    "            y = net(X)\n",
    "            yt=softmax(y)\n",
    "            l = loss(y,y_hat).sum()         \n",
    "\n",
    "            # 梯度清零\n",
    "            if optimizer is not None:\n",
    "                optimizer.zero_grad() # 这里我们用到优化器，所以直接对优化器行梯度清零\n",
    "            elif params is not None and params[0].grad is not None:\n",
    "                for param in params:\n",
    "                    param.grad.data.zero_()\n",
    "\n",
    "            l.backward()\n",
    "            if optimizer is None:\n",
    "                sgd(params, lr, batch_size)\n",
    "            else:\n",
    "                optimizer.step()  # 用到优化器这里\n",
    "\n",
    "\n",
    "            train_l_sum += l.item()\n",
    "            train_acc_sum += (yt.argmax(dim=1) == y_hat).sum().item()\n",
    "            n += y_hat.shape[0] \n",
    "        test_acc = evaluate_accuracy(test_iter, net)\n",
    "\n",
    "        print('epoch %d, loss %.4f, train acc %.3f, test acc %.3f'\n",
    "              % (epoch + 1, train_l_sum / n, train_acc_sum / n, test_acc))\n",
    "\n",
    "        # 记录loss\n",
    "        return float(train_l_sum/n), float(test_acc)"
   ]
  },
  {
   "cell_type": "code",
   "execution_count": 38,
   "id": "486c1f1a",
   "metadata": {},
   "outputs": [
    {
     "name": "stdout",
     "output_type": "stream",
     "text": [
      "epoch 1, loss 0.0155, train acc 0.456, test acc 0.469\n",
      "epoch 2, loss 0.0145, train acc 0.482, test acc 0.487\n",
      "epoch 3, loss 0.0136, train acc 0.495, test acc 0.492\n",
      "epoch 4, loss 0.0127, train acc 0.518, test acc 0.547\n",
      "epoch 5, loss 0.0119, train acc 0.574, test acc 0.574\n",
      "epoch 6, loss 0.0112, train acc 0.594, test acc 0.593\n",
      "epoch 7, loss 0.0106, train acc 0.612, test acc 0.603\n",
      "epoch 8, loss 0.0101, train acc 0.618, test acc 0.619\n",
      "epoch 9, loss 0.0097, train acc 0.630, test acc 0.620\n",
      "epoch 10, loss 0.0092, train acc 0.636, test acc 0.628\n"
     ]
    }
   ],
   "source": [
    "## 模型训练\n",
    "lr = 0.1 \n",
    "num_epochs = 10 # 迭代次数\n",
    "train(net, train_iter, test_iter,  num_epochs, batch_size, params)"
   ]
  },
  {
   "cell_type": "code",
   "execution_count": 45,
   "id": "e1b591d0",
   "metadata": {},
   "outputs": [],
   "source": [
    "# 开始利用 pytorch 构建模块 \n",
    "import torch\n",
    "import torch.nn as nn\n",
    "import torch.optim as optim\n"
   ]
  },
  {
   "cell_type": "code",
   "execution_count": 46,
   "id": "00639227",
   "metadata": {},
   "outputs": [
    {
     "data": {
      "text/plain": [
       "469"
      ]
     },
     "execution_count": 46,
     "metadata": {},
     "output_type": "execute_result"
    }
   ],
   "source": [
    "# 加载训练集和测试集\n",
    "batch_size = 128 \n",
    "train_iter = torch.utils.data.DataLoader(mnist_train, batch_size=batch_size, shuffle=True) \n",
    "test_iter = torch.utils.data.DataLoader(mnist_test, batch_size=batch_size, shuffle=False)\n",
    "len(train_iter)"
   ]
  },
  {
   "cell_type": "code",
   "execution_count": 47,
   "id": "8ffd2e98",
   "metadata": {},
   "outputs": [],
   "source": [
    "## 参数初始化\n",
    "num_inputs = 784# 拉成向量的长度\n",
    "num_hiddens= 30 #隐藏层的神经元数\n",
    "num_outputs = 10# 分类的类别个数"
   ]
  },
  {
   "cell_type": "code",
   "execution_count": 48,
   "id": "63528607",
   "metadata": {},
   "outputs": [],
   "source": [
    "# 定义平铺层\n",
    "class FlattenLayer(torch.nn.Module):\n",
    "    def __init__(self):\n",
    "         super(FlattenLayer, self).__init__()\n",
    "    def forward(self, x):\n",
    "        return x.view(x.shape[0],-1)  # -1可以换成784"
   ]
  },
  {
   "cell_type": "code",
   "execution_count": 49,
   "id": "5312f7fd",
   "metadata": {},
   "outputs": [],
   "source": [
    "# 利用模块搭建网络\n",
    "net1 = nn.Sequential(\n",
    "            FlattenLayer(),\n",
    "            nn.Linear(num_inputs, num_hiddens),\n",
    "            nn.ReLU(),\n",
    "            nn.Linear(num_hiddens, num_outputs)\n",
    "            )\n"
   ]
  },
  {
   "cell_type": "code",
   "execution_count": 50,
   "id": "303537df",
   "metadata": {},
   "outputs": [],
   "source": [
    "optimizer = optim.SGD(net1.parameters(),lr)   # torch 优化器\n",
    "## 交叉熵损失\n",
    "loss_c = nn.CrossEntropyLoss() # 损失函数  "
   ]
  },
  {
   "cell_type": "code",
   "execution_count": 51,
   "id": "93c445a4",
   "metadata": {},
   "outputs": [],
   "source": [
    "#计算模型在某个数据集上的准确率\n",
    "def evaluate_accuracy1(data_iter, net,loss):\n",
    "    l_sum=0.0\n",
    "    acc_sum, n = 0.0, 0\n",
    "    for X, y in data_iter:\n",
    "        acc_sum += (softmax(net(X)).argmax(dim=1) == y).sum().item()\n",
    "        l=loss(net(X),y).sum()\n",
    "        l_sum+=l.item()\n",
    "        n += y.shape[0]\n",
    "    return acc_sum / n, l_sum / n         \n"
   ]
  },
  {
   "cell_type": "code",
   "execution_count": null,
   "id": "c4d5f787",
   "metadata": {},
   "outputs": [
    {
     "name": "stdout",
     "output_type": "stream",
     "text": [
      "epoch 1, loss 0.0059, train acc 0.740, test acc 0.798\n",
      "epoch 2, loss 0.0039, train acc 0.823, test acc 0.824\n",
      "epoch 3, loss 0.0035, train acc 0.841, test acc 0.800\n",
      "epoch 4, loss 0.0033, train acc 0.849, test acc 0.846\n",
      "epoch 5, loss 0.0032, train acc 0.855, test acc 0.843\n",
      "epoch 6, loss 0.0031, train acc 0.860, test acc 0.846\n",
      "epoch 7, loss 0.0030, train acc 0.865, test acc 0.854\n",
      "epoch 8, loss 0.0029, train acc 0.868, test acc 0.853\n",
      "epoch 9, loss 0.0028, train acc 0.870, test acc 0.842\n",
      "epoch 10, loss 0.0028, train acc 0.873, test acc 0.858\n",
      "epoch 11, loss 0.0027, train acc 0.877, test acc 0.857\n",
      "epoch 12, loss 0.0027, train acc 0.876, test acc 0.860\n",
      "epoch 13, loss 0.0026, train acc 0.879, test acc 0.857\n",
      "epoch 14, loss 0.0026, train acc 0.881, test acc 0.863\n",
      "epoch 15, loss 0.0025, train acc 0.882, test acc 0.856\n",
      "epoch 16, loss 0.0025, train acc 0.886, test acc 0.865\n",
      "epoch 17, loss 0.0025, train acc 0.885, test acc 0.867\n",
      "epoch 18, loss 0.0025, train acc 0.886, test acc 0.860\n",
      "epoch 19, loss 0.0024, train acc 0.887, test acc 0.845\n",
      "epoch 20, loss 0.0024, train acc 0.889, test acc 0.863\n",
      "epoch 21, loss 0.0024, train acc 0.889, test acc 0.860\n",
      "epoch 22, loss 0.0024, train acc 0.891, test acc 0.861\n",
      "epoch 23, loss 0.0023, train acc 0.892, test acc 0.866\n",
      "epoch 24, loss 0.0023, train acc 0.893, test acc 0.844\n",
      "epoch 25, loss 0.0023, train acc 0.893, test acc 0.870\n",
      "epoch 26, loss 0.0023, train acc 0.895, test acc 0.861\n",
      "epoch 27, loss 0.0022, train acc 0.895, test acc 0.870\n",
      "epoch 28, loss 0.0022, train acc 0.896, test acc 0.870\n",
      "epoch 29, loss 0.0022, train acc 0.896, test acc 0.872\n",
      "epoch 30, loss 0.0022, train acc 0.898, test acc 0.871\n",
      "epoch 31, loss 0.0022, train acc 0.899, test acc 0.874\n",
      "epoch 32, loss 0.0022, train acc 0.900, test acc 0.874\n",
      "epoch 33, loss 0.0021, train acc 0.901, test acc 0.867\n",
      "epoch 34, loss 0.0021, train acc 0.901, test acc 0.865\n",
      "epoch 35, loss 0.0021, train acc 0.901, test acc 0.871\n",
      "epoch 36, loss 0.0021, train acc 0.902, test acc 0.872\n",
      "epoch 37, loss 0.0021, train acc 0.903, test acc 0.872\n",
      "epoch 38, loss 0.0021, train acc 0.903, test acc 0.877\n",
      "epoch 39, loss 0.0021, train acc 0.903, test acc 0.871\n",
      "epoch 40, loss 0.0020, train acc 0.904, test acc 0.869\n",
      "epoch 41, loss 0.0020, train acc 0.905, test acc 0.875\n",
      "epoch 42, loss 0.0020, train acc 0.906, test acc 0.869\n",
      "epoch 43, loss 0.0020, train acc 0.906, test acc 0.867\n",
      "epoch 44, loss 0.0020, train acc 0.906, test acc 0.870\n",
      "epoch 45, loss 0.0020, train acc 0.908, test acc 0.877\n",
      "epoch 46, loss 0.0020, train acc 0.907, test acc 0.875\n",
      "epoch 47, loss 0.0020, train acc 0.907, test acc 0.880\n",
      "epoch 48, loss 0.0019, train acc 0.909, test acc 0.868\n",
      "epoch 49, loss 0.0019, train acc 0.910, test acc 0.864\n"
     ]
    }
   ],
   "source": [
    "#  训练\n",
    "n_epochs=100\n",
    "learning_rate=0.1\n",
    "\n",
    "optimizer = optim.SGD(net1.parameters(),lr=learning_rate)   # torch 优化器\n",
    "loss_c = nn.CrossEntropyLoss() # 损失函数\n",
    "\n",
    "train_loss_x = []\n",
    "train_loss_y = []\n",
    "test_loss_x = []\n",
    "test_loss_y = []\n",
    "\n",
    "for epoch in range(n_epochs+1):    \n",
    "    train_l_sum, train_acc_sum, n = 0.0, 0.0, 0\n",
    "    for X, y_hat in train_iter:\n",
    "        y = net1(X)\n",
    "        yt=softmax(y)\n",
    "        l = loss_c(y,y_hat)   # 小批量中损失\n",
    "#        print(l.data.item())     \n",
    "        optimizer.zero_grad() # 直接对优化器行梯度清零 \n",
    "        l.backward()\n",
    "        optimizer.step()\n",
    "          \n",
    "        train_l_sum += l.item() # 一个周期的损失求和，最后为了求平均\n",
    "        train_acc_sum += (yt.argmax(dim=1) == y_hat).sum().item() # 训练集上准确率\n",
    "        n += y_hat.shape[0] \n",
    "    test_acc,test_loss = evaluate_accuracy1(test_iter, net1, loss_c)     # 测试集上准确率\n",
    "   \n",
    "    train_loss=train_l_sum / n\n",
    "    train_loss_x.append(epoch+1)\n",
    "    train_loss_y.append(train_loss)\n",
    "    test_loss_x.append(epoch+1)\n",
    "    test_loss_y.append(test_loss)\n",
    "    \n",
    "    print('epoch %d, loss %.4f, train acc %.3f, test acc %.3f'\n",
    "              % (epoch + 1, train_l_sum / n, train_acc_sum / n, test_acc))           "
   ]
  },
  {
   "cell_type": "code",
   "execution_count": null,
   "id": "bbe8c082",
   "metadata": {},
   "outputs": [],
   "source": [
    "#print(test_loss_x)\n",
    "#print(test_loss_y)\n",
    "#print(train_loss_x)\n",
    "#print(train_loss_y)"
   ]
  },
  {
   "cell_type": "code",
   "execution_count": 95,
   "id": "cb1c82af",
   "metadata": {},
   "outputs": [
    {
     "data": {
      "image/png": "[encoded data removed]",
      "text/plain": [
       "<Figure size 640x480 with 1 Axes>"
      ]
     },
     "metadata": {},
     "output_type": "display_data"
    }
   ],
   "source": [
    "# -- 用图表表示误差的记录 -- \n",
    "plt.plot(train_loss_x, train_loss_y, label=\"Train\")\n",
    "plt.plot(test_loss_x, test_loss_y, label=\"Test\")\n",
    "plt.legend()\n",
    "\n",
    "plt.xlabel(\"Epochs\")\n",
    "plt.ylabel(\"Error\")\n",
    "\n",
    "plt.show()"
   ]
  },
  {
   "cell_type": "code",
   "execution_count": null,
   "id": "a94df55c",
   "metadata": {},
   "outputs": [],
   "source": [
    "# -- 用图表表示误差的记录 -- \n",
    "plt.plot(train_loss_x, train_loss_y, label=\"Train\")\n",
    "#plt.plot(test_loss_x, test_loss_y, label=\"Test\")\n",
    "plt.legend()\n",
    "\n",
    "plt.xlabel(\"Epochs\")\n",
    "plt.ylabel(\"Error\")\n",
    "\n",
    "plt.show()"
   ]
  },
  {
   "cell_type": "code",
   "execution_count": 118,
   "id": "3466f002",
   "metadata": {},
   "outputs": [],
   "source": [
    "#  代码封装 \n",
    "\n",
    "learning_rate=0.1\n",
    "\n",
    "optimizer = optim.SGD(net1.parameters(),lr=learning_rate)   # torch 优化器\n",
    "loss_c = nn.CrossEntropyLoss() # 损失函数\n",
    "\n",
    "train_loss_x1 = []\n",
    "train_loss_y1 = []\n",
    "test_loss_x1 = []\n",
    "test_loss_y1 = []        \n",
    "   \n",
    "\n",
    "def train(net1, train_iter,test_iter, optimizer, epoch):\n",
    "    train_l_sum, train_acc_sum, n = 0.0, 0.0, 0\n",
    "    for X, y_hat in train_iter:\n",
    "        y = net1(X)\n",
    "        yt=softmax(y)\n",
    "        l = loss_c(y,y_hat)   # 小批量中损失\n",
    "#        print(l.data.item())     \n",
    "        optimizer.zero_grad() # 直接对优化器行梯度清零 \n",
    "        l.backward()\n",
    "        optimizer.step()\n",
    "          \n",
    "        train_l_sum += l.item() # 一个周期的损失求和，最后为了求平均\n",
    "        train_acc_sum += (yt.argmax(dim=1) == y_hat).sum().item() # 训练集上准确率\n",
    "        n += y_hat.shape[0] \n",
    "    \n",
    "    test_acc,test_loss = evaluate_accuracy1(test_iter, net1, loss_c)     # 测试集上准确率\n",
    "   \n",
    "    train_loss=train_l_sum / n\n",
    "    train_loss_x1.append(epoch+1)\n",
    "    train_loss_y1.append(train_loss)\n",
    "    test_loss_x1.append(epoch+1)\n",
    "    test_loss_y1.append(test_loss)\n",
    "    \n",
    "    print('epoch %d, loss %.4f, train acc %.3f, test acc %.3f'\n",
    "              % (epoch + 1, train_l_sum / n, train_acc_sum / n, test_acc)) \n",
    "   \n",
    "    return train_loss_x1,train_loss_y1,test_loss_x1,test_loss_y1"
   ]
  },
  {
   "cell_type": "code",
   "execution_count": 119,
   "id": "b7e23bc2",
   "metadata": {},
   "outputs": [
    {
     "name": "stdout",
     "output_type": "stream",
     "text": [
      "epoch 1, loss 0.0012, train acc 0.944, test acc 0.865\n",
      "epoch 2, loss 0.0012, train acc 0.944, test acc 0.867\n",
      "epoch 3, loss 0.0012, train acc 0.946, test acc 0.863\n",
      "epoch 4, loss 0.0012, train acc 0.944, test acc 0.865\n",
      "epoch 5, loss 0.0012, train acc 0.945, test acc 0.867\n",
      "epoch 6, loss 0.0012, train acc 0.946, test acc 0.868\n",
      "epoch 7, loss 0.0012, train acc 0.946, test acc 0.867\n",
      "epoch 8, loss 0.0012, train acc 0.945, test acc 0.864\n",
      "epoch 9, loss 0.0012, train acc 0.946, test acc 0.863\n",
      "epoch 10, loss 0.0012, train acc 0.946, test acc 0.865\n",
      "epoch 11, loss 0.0012, train acc 0.945, test acc 0.860\n",
      "epoch 12, loss 0.0012, train acc 0.945, test acc 0.868\n",
      "epoch 13, loss 0.0012, train acc 0.946, test acc 0.864\n",
      "epoch 14, loss 0.0012, train acc 0.947, test acc 0.868\n",
      "epoch 15, loss 0.0012, train acc 0.946, test acc 0.865\n",
      "epoch 16, loss 0.0012, train acc 0.946, test acc 0.868\n",
      "epoch 17, loss 0.0012, train acc 0.947, test acc 0.863\n",
      "epoch 18, loss 0.0012, train acc 0.946, test acc 0.867\n",
      "epoch 19, loss 0.0012, train acc 0.947, test acc 0.863\n",
      "epoch 20, loss 0.0012, train acc 0.945, test acc 0.867\n",
      "epoch 21, loss 0.0011, train acc 0.947, test acc 0.866\n",
      "epoch 22, loss 0.0011, train acc 0.947, test acc 0.867\n",
      "epoch 23, loss 0.0012, train acc 0.947, test acc 0.867\n",
      "epoch 24, loss 0.0012, train acc 0.947, test acc 0.870\n",
      "epoch 25, loss 0.0012, train acc 0.946, test acc 0.861\n",
      "epoch 26, loss 0.0011, train acc 0.948, test acc 0.867\n",
      "epoch 27, loss 0.0011, train acc 0.947, test acc 0.863\n",
      "epoch 28, loss 0.0011, train acc 0.947, test acc 0.866\n",
      "epoch 29, loss 0.0011, train acc 0.947, test acc 0.864\n",
      "epoch 30, loss 0.0011, train acc 0.947, test acc 0.864\n",
      "epoch 31, loss 0.0011, train acc 0.946, test acc 0.870\n",
      "epoch 32, loss 0.0011, train acc 0.948, test acc 0.868\n",
      "epoch 33, loss 0.0011, train acc 0.948, test acc 0.859\n",
      "epoch 34, loss 0.0011, train acc 0.948, test acc 0.867\n",
      "epoch 35, loss 0.0011, train acc 0.947, test acc 0.864\n",
      "epoch 36, loss 0.0011, train acc 0.946, test acc 0.861\n",
      "epoch 37, loss 0.0011, train acc 0.947, test acc 0.865\n",
      "epoch 38, loss 0.0011, train acc 0.948, test acc 0.867\n",
      "epoch 39, loss 0.0011, train acc 0.948, test acc 0.863\n",
      "epoch 40, loss 0.0011, train acc 0.948, test acc 0.864\n",
      "epoch 41, loss 0.0011, train acc 0.946, test acc 0.863\n",
      "epoch 42, loss 0.0011, train acc 0.947, test acc 0.868\n",
      "epoch 43, loss 0.0011, train acc 0.948, test acc 0.868\n",
      "epoch 44, loss 0.0011, train acc 0.947, test acc 0.867\n",
      "epoch 45, loss 0.0011, train acc 0.947, test acc 0.864\n",
      "epoch 46, loss 0.0011, train acc 0.948, test acc 0.866\n",
      "epoch 47, loss 0.0011, train acc 0.946, test acc 0.867\n",
      "epoch 48, loss 0.0011, train acc 0.947, test acc 0.865\n",
      "epoch 49, loss 0.0011, train acc 0.947, test acc 0.865\n",
      "epoch 50, loss 0.0011, train acc 0.946, test acc 0.864\n",
      "epoch 51, loss 0.0011, train acc 0.948, test acc 0.865\n",
      "epoch 52, loss 0.0011, train acc 0.947, test acc 0.866\n",
      "epoch 53, loss 0.0011, train acc 0.947, test acc 0.862\n",
      "epoch 54, loss 0.0011, train acc 0.946, test acc 0.861\n",
      "epoch 55, loss 0.0011, train acc 0.948, test acc 0.861\n",
      "epoch 56, loss 0.0011, train acc 0.947, test acc 0.857\n",
      "epoch 57, loss 0.0011, train acc 0.948, test acc 0.857\n",
      "epoch 58, loss 0.0011, train acc 0.948, test acc 0.863\n",
      "epoch 59, loss 0.0011, train acc 0.947, test acc 0.866\n",
      "epoch 60, loss 0.0011, train acc 0.948, test acc 0.868\n",
      "epoch 61, loss 0.0011, train acc 0.948, test acc 0.853\n",
      "epoch 62, loss 0.0011, train acc 0.948, test acc 0.864\n",
      "epoch 63, loss 0.0011, train acc 0.948, test acc 0.856\n",
      "epoch 64, loss 0.0011, train acc 0.947, test acc 0.866\n",
      "epoch 65, loss 0.0011, train acc 0.948, test acc 0.865\n",
      "epoch 66, loss 0.0011, train acc 0.948, test acc 0.864\n",
      "epoch 67, loss 0.0011, train acc 0.947, test acc 0.863\n",
      "epoch 68, loss 0.0011, train acc 0.946, test acc 0.862\n",
      "epoch 69, loss 0.0011, train acc 0.946, test acc 0.864\n",
      "epoch 70, loss 0.0011, train acc 0.949, test acc 0.860\n",
      "epoch 71, loss 0.0011, train acc 0.949, test acc 0.841\n",
      "epoch 72, loss 0.0011, train acc 0.946, test acc 0.866\n",
      "epoch 73, loss 0.0011, train acc 0.947, test acc 0.865\n",
      "epoch 74, loss 0.0011, train acc 0.947, test acc 0.862\n",
      "epoch 75, loss 0.0011, train acc 0.947, test acc 0.856\n",
      "epoch 76, loss 0.0011, train acc 0.947, test acc 0.863\n",
      "epoch 77, loss 0.0011, train acc 0.946, test acc 0.865\n",
      "epoch 78, loss 0.0011, train acc 0.949, test acc 0.865\n",
      "epoch 79, loss 0.0011, train acc 0.947, test acc 0.858\n",
      "epoch 80, loss 0.0011, train acc 0.948, test acc 0.862\n",
      "epoch 81, loss 0.0011, train acc 0.950, test acc 0.866\n",
      "epoch 82, loss 0.0011, train acc 0.947, test acc 0.865\n",
      "epoch 83, loss 0.0011, train acc 0.947, test acc 0.864\n",
      "epoch 84, loss 0.0011, train acc 0.947, test acc 0.864\n",
      "epoch 85, loss 0.0010, train acc 0.947, test acc 0.863\n",
      "epoch 86, loss 0.0011, train acc 0.948, test acc 0.865\n",
      "epoch 87, loss 0.0011, train acc 0.947, test acc 0.868\n",
      "epoch 88, loss 0.0011, train acc 0.948, test acc 0.864\n",
      "epoch 89, loss 0.0010, train acc 0.948, test acc 0.864\n",
      "epoch 90, loss 0.0011, train acc 0.948, test acc 0.865\n",
      "epoch 91, loss 0.0011, train acc 0.948, test acc 0.861\n",
      "epoch 92, loss 0.0010, train acc 0.949, test acc 0.866\n",
      "epoch 93, loss 0.0010, train acc 0.950, test acc 0.863\n",
      "epoch 94, loss 0.0010, train acc 0.948, test acc 0.867\n",
      "epoch 95, loss 0.0010, train acc 0.948, test acc 0.860\n",
      "epoch 96, loss 0.0010, train acc 0.948, test acc 0.865\n",
      "epoch 97, loss 0.0010, train acc 0.948, test acc 0.858\n",
      "epoch 98, loss 0.0010, train acc 0.949, test acc 0.865\n",
      "epoch 99, loss 0.0011, train acc 0.946, test acc 0.863\n",
      "epoch 100, loss 0.0010, train acc 0.947, test acc 0.862\n",
      "epoch 101, loss 0.0010, train acc 0.949, test acc 0.862\n",
      "[1, 2, 3, 4, 5, 6, 7, 8, 9, 10, 11, 12, 13, 14, 15, 16, 17, 18, 19, 20, 21, 22, 23, 24, 25, 26, 27, 28, 29, 30, 31, 32, 33, 34, 35, 36, 37, 38, 39, 40, 41, 42, 43, 44, 45, 46, 47, 48, 49, 50, 51, 52, 53, 54, 55, 56, 57, 58, 59, 60, 61, 62, 63, 64, 65, 66, 67, 68, 69, 70, 71, 72, 73, 74, 75, 76, 77, 78, 79, 80, 81, 82, 83, 84, 85, 86, 87, 88, 89, 90, 91, 92, 93, 94, 95, 96, 97, 98, 99, 100, 101]\n"
     ]
    }
   ],
   "source": [
    "n_epochs=100\n",
    "for epoch in range(n_epochs+1):\n",
    "    train(net1, train_iter,test_iter, optimizer, epoch)\n",
    "\n",
    "print(train_loss_x1)"
   ]
  },
  {
   "cell_type": "code",
   "execution_count": 120,
   "id": "97c9bf06",
   "metadata": {},
   "outputs": [
    {
     "data": {
      "image/png": "[encoded data removed]",
      "text/plain": [
       "<Figure size 640x480 with 1 Axes>"
      ]
     },
     "metadata": {},
     "output_type": "display_data"
    }
   ],
   "source": [
    "# -- 用图表表示误差的记录 -- \n",
    "plt.plot(train_loss_x1, train_loss_y1, label=\"Train\")\n",
    "plt.plot(test_loss_x1, test_loss_y1, label=\"Test\")\n",
    "plt.legend()\n",
    "\n",
    "plt.xlabel(\"Epochs\")\n",
    "plt.ylabel(\"Error\")\n",
    "\n",
    "plt.show()"
   ]
  },
  {
   "cell_type": "code",
   "execution_count": 154,
   "id": "d80d3688",
   "metadata": {},
   "outputs": [],
   "source": [
    "#  cuda 运算\n",
    "device = (torch.device('cuda') if torch.cuda.is_available() else torch.device('cpu')) # 让torch判断是否使用GPU，建议使用GPU环境，因为会快很多\n"
   ]
  },
  {
   "cell_type": "code",
   "execution_count": 155,
   "id": "45a35540",
   "metadata": {},
   "outputs": [],
   "source": [
    "# 利用模块搭建网络\n",
    "net1 = nn.Sequential(\n",
    "            FlattenLayer(),\n",
    "            nn.Linear(num_inputs, num_hiddens),\n",
    "            nn.ReLU(),\n",
    "            nn.Linear(num_hiddens, num_outputs)\n",
    "            )\n",
    "net1=net1.to(device)"
   ]
  },
  {
   "cell_type": "code",
   "execution_count": 156,
   "id": "969ab35d",
   "metadata": {},
   "outputs": [],
   "source": [
    "#计算模型在某个数据集上的准确率  cuda\n",
    "def evaluate_accuracy1(data_iter,device, net,loss):\n",
    "    l_sum=0.0\n",
    "    acc_sum, n = 0.0, 0\n",
    "    for X, y in data_iter:\n",
    "        X=X.to(device)\n",
    "        y=y.to(device)\n",
    "        acc_sum += (softmax(net(X)).argmax(dim=1) == y).sum().item()\n",
    "        l=loss(net(X),y).sum()\n",
    "        l_sum+=l.item()\n",
    "        n += y.shape[0]\n",
    "    return acc_sum / n, l_sum / n         \n"
   ]
  },
  {
   "cell_type": "code",
   "execution_count": 157,
   "id": "1ec79415",
   "metadata": {},
   "outputs": [],
   "source": [
    "\n",
    "learning_rate=0.1\n",
    "\n",
    "optimizer = optim.SGD(net1.parameters(),lr=learning_rate)   # torch 优化器\n",
    "loss_c = nn.CrossEntropyLoss() # 损失函数\n",
    "\n",
    "train_loss_x1 = []\n",
    "train_loss_y1 = []\n",
    "test_loss_x1 = []\n",
    "test_loss_y1 = []        \n",
    "   \n",
    "\n",
    "def train(net1,device, train_iter,test_iter, optimizer, epoch):\n",
    "    train_l_sum, train_acc_sum, n = 0.0, 0.0, 0\n",
    "    for X, y_hat in train_iter:\n",
    "        X=X.to(device)\n",
    "        y_hat=y_hat.to(device)\n",
    "        \n",
    "        y = net1(X)\n",
    "        yt=softmax(y)\n",
    "        l = loss_c(y,y_hat)   # 小批量中损失\n",
    "#        print(l.data.item())     \n",
    "        optimizer.zero_grad() # 直接对优化器行梯度清零 \n",
    "        l.backward()\n",
    "        optimizer.step()\n",
    "          \n",
    "        train_l_sum += l.item() # 一个周期的损失求和，最后为了求平均\n",
    "        train_acc_sum += (yt.argmax(dim=1) == y_hat).sum().item() # 训练集上准确率\n",
    "        n += y_hat.shape[0] \n",
    "    \n",
    "    test_acc,test_loss = evaluate_accuracy1(test_iter, device, net1, loss_c)     # 测试集上准确率\n",
    "   \n",
    "    train_loss=train_l_sum / n\n",
    "    train_loss_x1.append(epoch+1)\n",
    "    train_loss_y1.append(train_loss)\n",
    "    test_loss_x1.append(epoch+1)\n",
    "    test_loss_y1.append(test_loss)\n",
    "    \n",
    "    print('epoch %d, loss %.4f, train acc %.3f, test acc %.3f'\n",
    "              % (epoch + 1, train_l_sum / n, train_acc_sum / n, test_acc)) \n",
    "   \n",
    "    return train_loss_x1,train_loss_y1,test_loss_x1,test_loss_y1"
   ]
  },
  {
   "cell_type": "code",
   "execution_count": 158,
   "id": "ede4d7f1",
   "metadata": {},
   "outputs": [
    {
     "name": "stdout",
     "output_type": "stream",
     "text": [
      "epoch 1, loss 0.0058, train acc 0.747, test acc 0.809\n",
      "epoch 2, loss 0.0039, train acc 0.825, test acc 0.806\n",
      "epoch 3, loss 0.0035, train acc 0.840, test acc 0.830\n",
      "epoch 4, loss 0.0033, train acc 0.850, test acc 0.833\n",
      "epoch 5, loss 0.0032, train acc 0.855, test acc 0.846\n",
      "epoch 6, loss 0.0031, train acc 0.861, test acc 0.854\n",
      "[1, 2, 3, 4, 5, 6]\n"
     ]
    }
   ],
   "source": [
    "n_epochs=5\n",
    "for epoch in range(n_epochs+1):\n",
    "    train(net1, device, train_iter, test_iter, optimizer, epoch)\n",
    "\n",
    "print(train_loss_x1)"
   ]
  },
  {
   "cell_type": "code",
   "execution_count": null,
   "id": "d401eaf4",
   "metadata": {},
   "outputs": [],
   "source": []
  },
  {
   "cell_type": "code",
   "execution_count": null,
   "id": "ce3b3930",
   "metadata": {},
   "outputs": [],
   "source": []
  }
 ],
 "metadata": {
  "kernelspec": {
   "display_name": "Python 3 (ipykernel)",
   "language": "python",
   "name": "python3"
  },
  "language_info": {
   "codemirror_mode": {
    "name": "ipython",
    "version": 3
   },
   "file_extension": ".py",
   "mimetype": "text/x-python",
   "name": "python",
   "nbconvert_exporter": "python",
   "pygments_lexer": "ipython3",
   "version": "3.9.16"
  }
 },
 "nbformat": 4,
 "nbformat_minor": 5
}
