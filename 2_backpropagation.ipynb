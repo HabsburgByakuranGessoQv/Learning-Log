{
 "cells": [
  {
   "cell_type": "markdown",
   "metadata": {},
   "source": [
    "# 鸢尾花分类"
   ]
  },
  {
   "cell_type": "markdown",
   "metadata": {},
   "source": [
    "### 反向传播算法、随机梯度下降法"
   ]
  },
  {
   "cell_type": "code",
   "execution_count": 1,
   "metadata": {},
   "outputs": [],
   "source": [
    "%matplotlib inline\n",
    "\n",
    "import numpy as np\n",
    "import matplotlib.pyplot as plt\n",
    "from sklearn import datasets"
   ]
  },
  {
   "cell_type": "code",
   "execution_count": 2,
   "metadata": {},
   "outputs": [],
   "source": [
    "# -- 鸢尾花数据的读入 --\n",
    "iris_data = datasets.load_iris()\n",
    "input_data = iris_data.data\n",
    "correct = iris_data.target\n",
    "n_data = len(correct)  # 样本数量"
   ]
  },
  {
   "cell_type": "code",
   "execution_count": 3,
   "metadata": {},
   "outputs": [],
   "source": [
    "# -- 对输入数据进行标准化处理 --\n",
    "ave_input = np.average(input_data, axis=0)\n",
    "std_input = np.std(input_data, axis=0)\n",
    "input_data = (input_data - ave_input) / std_input"
   ]
  },
  {
   "cell_type": "code",
   "execution_count": 4,
   "metadata": {},
   "outputs": [],
   "source": [
    "# -- 将正确答案转换为独热编码格式 --\n",
    "correct_data = np.zeros((n_data, 3))\n",
    "for i in range(n_data):\n",
    "    correct_data[i, correct[i]] = 1.0"
   ]
  },
  {
   "cell_type": "code",
   "execution_count": 9,
   "metadata": {},
   "outputs": [],
   "source": [
    "# -- 训练数据与测试数据 --\n",
    "index = np.arange(n_data)\n",
    "index_train = index[index%2 == 0]\n",
    "index_test = index[index%2 != 0]\n",
    "#print(index_train)\n",
    "input_train = input_data[index_train, :]  # 训练 输入\n",
    "#print(input_train)\n",
    "correct_train = correct_data[index_train, :]  # 训练 正确答案\n",
    "#print(correct_train)\n",
    "input_test = input_data[index_test, :]  # 测试 输入\n",
    "correct_test = correct_data[index_test, :]  # 测试 正确答案\n",
    "\n",
    "n_train = input_train.shape[0]  # 训练数据的样本数\n",
    "n_test = input_test.shape[0]  # 测试数据的样本数\n",
    "\n"
   ]
  },
  {
   "cell_type": "code",
   "execution_count": 6,
   "metadata": {},
   "outputs": [],
   "source": [
    "# -- 各种设置值 --\n",
    "n_in = 4  # 输入层的神经元数量\n",
    "n_mid = 25  # 中间层的神经元数量\n",
    "n_out = 3  # 输出层的神经元数量\n",
    "\n",
    "wb_width = 0.1  # 权重和偏置的分散度\n",
    "eta = 0.01  # 学习系数\n",
    "epoch = 1000\n",
    "batch_size = 8\n",
    "interval = 100  # 显示进度的时间间隔"
   ]
  },
  {
   "cell_type": "code",
   "execution_count": 7,
   "metadata": {},
   "outputs": [],
   "source": [
    "# -- 各个网络层的祖先类 --\n",
    "class BaseLayer:\n",
    "    def __init__(self, n_upper, n):\n",
    "        self.w = wb_width * np.random.randn(n_upper, n)  # 权重（矩阵）\n",
    "        self.b = wb_width * np.random.randn(n)  # 偏置（向量）\n",
    "\n",
    "    def update(self, eta):\n",
    "        self.w -= eta * self.grad_w\n",
    "        self.b -= eta * self.grad_b\n",
    "\n",
    "# -- 中间层 --\n",
    "class MiddleLayer(BaseLayer):\n",
    "    def forward(self, x):\n",
    "        self.x = x\n",
    "        self.u = np.dot(x, self.w) + self.b\n",
    "        self.y = np.where(self.u <= 0, 0, self.u) # ReLU\n",
    "    \n",
    "    def backward(self, grad_y):\n",
    "        delta = grad_y * np.where(self.u <= 0, 0, 1)  # ReLU的微分\n",
    "\n",
    "        self.grad_w = np.dot(self.x.T, delta)\n",
    "        self.grad_b = np.sum(delta, axis=0)        \n",
    "        self.grad_x = np.dot(delta, self.w.T)        # 反向传播\n",
    "\n",
    "# -- 输出层 --\n",
    "class OutputLayer(BaseLayer):     \n",
    "    def forward(self, x):\n",
    "        self.x = x\n",
    "        u = np.dot(x, self.w) + self.b\n",
    "        self.y = np.exp(u)/np.sum(np.exp(u), axis=1, keepdims=True)  # SoftMax函数\n",
    "\n",
    "    def backward(self, t):\n",
    "        delta = self.y - t        \n",
    "        self.grad_w = np.dot(self.x.T, delta)\n",
    "        self.grad_b = np.sum(delta, axis=0)        \n",
    "        self.grad_x = np.dot(delta, self.w.T)          # 反向传播"
   ]
  },
  {
   "cell_type": "code",
   "execution_count": 8,
   "metadata": {},
   "outputs": [],
   "source": [
    "# -- 各个网络层的初始化 --\n",
    "middle_layer_1 = MiddleLayer(n_in, n_mid)\n",
    "middle_layer_2 = MiddleLayer(n_mid, n_mid)\n",
    "output_layer = OutputLayer(n_mid, n_out)\n",
    "\n",
    "# -- 正向传播 ，一层一层的传播--\n",
    "def forward_propagation(x):\n",
    "    middle_layer_1.forward(x)\n",
    "    middle_layer_2.forward(middle_layer_1.y)\n",
    "    output_layer.forward(middle_layer_2.y)\n",
    "\n",
    "# -- 逆向传播，一层一层传播 --\n",
    "def backpropagation(t):\n",
    "    output_layer.backward(t)\n",
    "    middle_layer_2.backward(output_layer.grad_x)\n",
    "    middle_layer_1.backward(middle_layer_2.grad_x)\n",
    "\n"
   ]
  },
  {
   "cell_type": "code",
   "execution_count": 9,
   "metadata": {},
   "outputs": [],
   "source": [
    "# -- 权重和偏置的更新 --\n",
    "def uppdate_wb():\n",
    "    middle_layer_1.update(eta)\n",
    "    middle_layer_2.update(eta)\n",
    "    output_layer.update(eta)\n",
    "\n",
    "# -- 计算误差 --\n",
    "def get_error(t, batch_size):\n",
    "    return -np.sum(t * np.log(output_layer.y + 1e-7)) / batch_size  # 交叉熵误差\n",
    "\n",
    "\n",
    "# -- 用于记录误差 --\n",
    "train_error_x = []\n",
    "train_error_y = []\n",
    "test_error_x = []\n",
    "test_error_y = []"
   ]
  },
  {
   "cell_type": "code",
   "execution_count": 10,
   "metadata": {},
   "outputs": [
    {
     "name": "stdout",
     "output_type": "stream",
     "text": [
      "Epoch:0/1000 Error_train:1.1149085043774865 Error_test:1.1133540837394966\n",
      "Epoch:100/1000 Error_train:0.020822294569524034 Error_test:0.07066384504202698\n",
      "Epoch:200/1000 Error_train:0.00702295015775374 Error_test:0.08454749431130609\n",
      "Epoch:300/1000 Error_train:0.0027232691793762634 Error_test:0.09616155412402197\n",
      "Epoch:400/1000 Error_train:0.0015625497655185636 Error_test:0.10716032697686712\n",
      "Epoch:500/1000 Error_train:0.0010329640127478034 Error_test:0.11669528593196281\n",
      "Epoch:600/1000 Error_train:0.0007569350021957991 Error_test:0.12607867639827017\n",
      "Epoch:700/1000 Error_train:0.0005819914953107497 Error_test:0.13291037943883574\n",
      "Epoch:800/1000 Error_train:0.0004703688734369031 Error_test:0.1402723422170035\n",
      "Epoch:900/1000 Error_train:0.000392179061987718 Error_test:0.1467129981800132\n"
     ]
    }
   ],
   "source": [
    "# -- 记录学习的过程和经过 --\n",
    "n_batch = n_train // batch_size  # 每一轮epoch的批次尺寸\n",
    "for i in range(epoch):\n",
    "\n",
    "    # -- 误差的统计和测算 --  \n",
    "    forward_propagation(input_train)    #调用forward_propagation函数\n",
    "    error_train = get_error(correct_train, n_train)\n",
    "    forward_propagation(input_test)\n",
    "    error_test = get_error(correct_test, n_test)\n",
    "    \n",
    "    # -- 误差的记录 -- \n",
    "    test_error_x.append(i)\n",
    "    test_error_y.append(error_test) \n",
    "    train_error_x.append(i)\n",
    "    train_error_y.append(error_train) \n",
    "    \n",
    "    # -- 进度的显示 -- \n",
    "    if i%interval == 0:\n",
    "        print(\"Epoch:\" + str(i) + \"/\" + str(epoch),\n",
    "              \"Error_train:\" + str(error_train),\n",
    "              \"Error_test:\" + str(error_test))\n",
    "\n",
    "    # -- 学习 -- \n",
    "    index_random = np.arange(n_train)\n",
    "    np.random.shuffle(index_random)  # 将索引值随机的打乱排序\n",
    "    for j in range(n_batch):\n",
    "        \n",
    "        # 取出最小批次\n",
    "        mb_index = index_random[j*batch_size : (j+1)*batch_size]\n",
    "        x = input_train[mb_index, :]\n",
    "        t = correct_train[mb_index, :]\n",
    "        \n",
    "        # 正向传播和反向传播\n",
    "        forward_propagation(x)\n",
    "        backpropagation(t)\n",
    "        \n",
    "        # 权重和偏置的更新\n",
    "        uppdate_wb()\n",
    "    \n"
   ]
  },
  {
   "cell_type": "code",
   "execution_count": 11,
   "metadata": {},
   "outputs": [
    {
     "data": {
      "image/png": "[encoded data removed]",
      "text/plain": [
       "<Figure size 640x480 with 1 Axes>"
      ]
     },
     "metadata": {},
     "output_type": "display_data"
    },
    {
     "name": "stdout",
     "output_type": "stream",
     "text": [
      "Accuracy Train: 100.0% Accuracy Test: 92.0%\n"
     ]
    }
   ],
   "source": [
    "# -- 用图表表示误差的记录 -- \n",
    "plt.plot(train_error_x, train_error_y, label=\"Train\")\n",
    "plt.plot(test_error_x, test_error_y, label=\"Test\")\n",
    "plt.legend()\n",
    "\n",
    "plt.xlabel(\"Epochs\")\n",
    "plt.ylabel(\"Error\")\n",
    "\n",
    "plt.show()\n",
    "\n",
    "# -- 测算正确率 -- \n",
    "forward_propagation(input_train)\n",
    "count_train = np.sum(np.argmax(output_layer.y, axis=1) == np.argmax(correct_train, axis=1))\n",
    "\n",
    "forward_propagation(input_test)\n",
    "count_test = np.sum(np.argmax(output_layer.y, axis=1) == np.argmax(correct_test, axis=1))\n",
    "\n",
    "print(\"Accuracy Train:\", str(count_train/n_train*100) + \"%\",\n",
    "      \"Accuracy Test:\", str(count_test/n_test*100) + \"%\")"
   ]
  },
  {
   "cell_type": "code",
   "execution_count": null,
   "metadata": {},
   "outputs": [],
   "source": []
  },
  {
   "cell_type": "code",
   "execution_count": null,
   "metadata": {},
   "outputs": [],
   "source": []
  },
  {
   "cell_type": "code",
   "execution_count": null,
   "metadata": {},
   "outputs": [],
   "source": []
  }
 ],
 "metadata": {
  "kernelspec": {
   "display_name": "Python 3 (ipykernel)",
   "language": "python",
   "name": "python3"
  },
  "language_info": {
   "codemirror_mode": {
    "name": "ipython",
    "version": 3
   },
   "file_extension": ".py",
   "mimetype": "text/x-python",
   "name": "python",
   "nbconvert_exporter": "python",
   "pygments_lexer": "ipython3",
   "version": "3.9.16"
  }
 },
 "nbformat": 4,
 "nbformat_minor": 2
}
