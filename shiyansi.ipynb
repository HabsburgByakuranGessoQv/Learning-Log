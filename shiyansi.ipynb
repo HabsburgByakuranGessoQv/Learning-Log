{
 "cells": [
  {
   "cell_type": "code",
   "execution_count": null,
   "id": "8c66080a",
   "metadata": {},
   "outputs": [],
   "source": [
    "from cv2 import cv2\n",
    "import numpy as np"
   ]
  },
  {
   "cell_type": "code",
   "execution_count": null,
   "id": "8bd97a61",
   "metadata": {},
   "outputs": [],
   "source": [
    "image = cv2.imread(\"cat.png\",cv2.IMREAD_GRAYSCALE)"
   ]
  },
  {
   "cell_type": "code",
   "execution_count": null,
   "id": "76d30d72",
   "metadata": {},
   "outputs": [],
   "source": [
    "#利用Python语言环境编写基于形态学方法的图像边缘特征检测程序\n",
    "kernel = cv2.getStructuringElement(cv2.MORPH_RECT,(3,3))\n",
    "dilate_img = cv2.dilate(image,kernel)\n",
    "erode_img = cv2.erode(image,kernel)"
   ]
  },
  {
   "cell_type": "code",
   "execution_count": null,
   "id": "219c4760",
   "metadata": {},
   "outputs": [],
   "source": [
    "absdiff_img = cv2.absdiff(dilate_img,erode_img)\n",
    "retval,threshold_img = cv2.threshold(absdiff_img,40,255,cv2.THRESH_BINARY)\n",
    "result = cv2.bitwise_not(threshold_img)"
   ]
  },
  {
   "cell_type": "code",
   "execution_count": null,
   "id": "e7887275",
   "metadata": {},
   "outputs": [],
   "source": [
    "#显示图像\n",
    "cv2.imshow(\"original_image\",image)\n",
    "cv2.imshow(\"dilate_img\",dilate_img)\n",
    "cv2.imshow(\"eroce_img\",erode_img)\n",
    "cv2.imshow(\"absdiff_img\",absdiff_img)\n",
    "cv2.imshow(\"threshold_img\",threshold_img)\n",
    "cv2.imshow(\"result\",result)"
   ]
  },
  {
   "cell_type": "code",
   "execution_count": null,
   "id": "e4c48648",
   "metadata": {},
   "outputs": [],
   "source": [
    "cv2.waitKey(0)\n",
    "cv2.destroyAllWindows()"
   ]
  },
  {
   "cell_type": "code",
   "execution_count": null,
   "id": "63eaf676",
   "metadata": {},
   "outputs": [],
   "source": [
    "#基于开运算和闭运算的图像去噪程序\n",
    "original_img = image\n",
    "gray_res = cv2.resize(original_img,None,fx=0.8,fy=0.8,\n",
    "                     interpolation = cv2.INTER_CUBIC)\n",
    "kernel = cv2.getStructuringElement(cv2.MORPH_RECT,(3,3))\n",
    "#闭运算1\n",
    "closed1 = cv2.morphologyEx(gray_res,cv2.MORPH_CLOSE,kernel,iterations=1)\n",
    "#闭运算2\n",
    "closed2 = cv2.morphologyEx(gray_res,cv2.MORPH_CLOSE,kernel,iterations=3)\n",
    "#开运算1\n",
    "opened1 = cv2.morphologyEx(gray_res,cv2.MORPH_OPEN,kernel,iterations=1)\n",
    "#开运算2\n",
    "opened2 = cv2.morphologyEx(gray_res,cv2.MORPH_OPEN,kernel,iterations=3)\n",
    "#梯度\n",
    "gradient = cv2.morphologyEx(gray_res,cv2.MORPH_GRADIENT,kernel)"
   ]
  },
  {
   "cell_type": "code",
   "execution_count": null,
   "id": "64e63808",
   "metadata": {},
   "outputs": [],
   "source": [
    "#显示图像\n",
    "cv2.imshow(\"gray_res\",gray_res)\n",
    "cv2.imshow(\"Close1\",closed1)\n",
    "cv2.imshow(\"Close2\",closed2)\n",
    "cv2.imshow(\"Open1\",opened1)\n",
    "cv2.imshow(\"Open2\",opened2)\n",
    "cv2.imshow(\"gradient\",gradient)"
   ]
  },
  {
   "cell_type": "code",
   "execution_count": null,
   "id": "41b35b91",
   "metadata": {},
   "outputs": [],
   "source": [
    "cv2.waitKey(0)\n",
    "cv2.destroyAllWindows()"
   ]
  },
  {
   "cell_type": "code",
   "execution_count": null,
   "id": "58d002d3",
   "metadata": {},
   "outputs": [],
   "source": [
    "#车牌与背景分割\n",
    "img = cv2.imread(\"car2.jpg\")\n",
    "img_gray = cv2.cvtColor(img,cv2.COLOR_BGR2GRAY)\n",
    "cv2.imshow('gray',img_gray)\n",
    "cv2.waitKey(0)"
   ]
  },
  {
   "cell_type": "code",
   "execution_count": null,
   "id": "90eec829",
   "metadata": {},
   "outputs": [],
   "source": [
    "#将灰度图图像二值化，设定阈值是100\n",
    "img_thre = img_gray\n",
    "cv2.threshold(img_gray,100,255,cv2.THRESH_BINARY_INV,img_thre)\n",
    "cv2.imshow(\"threshold\",img_thre)\n",
    "cv2.waitKey(0)"
   ]
  },
  {
   "cell_type": "code",
   "execution_count": null,
   "id": "f6b7f0d8",
   "metadata": {},
   "outputs": [],
   "source": [
    "#保存黑白图片\n",
    "cv2.imwrite(\"thre_res.png\",img_thre)"
   ]
  },
  {
   "cell_type": "code",
   "execution_count": null,
   "id": "3b553a45",
   "metadata": {},
   "outputs": [],
   "source": [
    "#分割字符\n",
    "white = []\n",
    "black = []\n",
    "height = img_thre.shape[0]\n",
    "width = img_thre.shape[1]\n",
    "white_max = 0\n",
    "black_max = 0\n",
    "#计算每一列的黑白色像素总和\n",
    "for i in range(width):\n",
    "    s = 0\n",
    "    t = 0\n",
    "    for j in range(height):\n",
    "        if img_thre[j][i] == 255:\n",
    "            s += 1\n",
    "        if img_thre[j][i] == 0:\n",
    "            t += 1\n",
    "    white_max = max(white_max,s)\n",
    "    black_max = max(black_max,t)\n",
    "    white.append(s)\n",
    "    black.append(t)\n",
    "    print(s)\n",
    "    print(t)\n",
    "\n",
    "arg = False\n",
    "if black_max > white_max:\n",
    "    arg = True\n",
    "    \n",
    "#分割图像\n",
    "def find_end(start_):\n",
    "    end_ = start_ + 1\n",
    "    for m in range(start_ + 1 ,width - 1):\n",
    "        if (black[m] if arg else white[m]) > (0.625 * black_max if arg else 0.625 * white_max):\n",
    "            end_ = m\n",
    "            break\n",
    "    return end_"
   ]
  },
  {
   "cell_type": "code",
   "execution_count": null,
   "id": "206d892e",
   "metadata": {},
   "outputs": [],
   "source": [
    "n = 1\n",
    "start = 1\n",
    "end = 2\n",
    "while n < width-2:\n",
    "    n += 1 \n",
    "    if (white[n] if arg else black[n])>(0.375 * white_max if arg else 0.375 * black_max):\n",
    "        start = n\n",
    "        end = find_end(start)\n",
    "        n = end\n",
    "        if end - start > 5:\n",
    "            cj = img_thre[1:height,start:end]\n",
    "            cv2.imshow(\"canjian\",cj)\n",
    "            cv2.waitKey(0)\n",
    "cv2.destroyAllWindows()"
   ]
  },
  {
   "cell_type": "code",
   "execution_count": 4,
   "id": "be3e8e5d",
   "metadata": {
    "ExecuteTime": {
     "end_time": "2023-05-05T04:23:00.758950800Z",
     "start_time": "2023-05-05T04:23:00.723943500Z"
    }
   },
   "outputs": [],
   "source": [
    "from PIL import Image\n",
    "import os.path\n",
    "from skimage import io,data\n",
    "from cv2 import cv2\n",
    "import numpy as np"
   ]
  },
  {
   "cell_type": "code",
   "execution_count": 5,
   "id": "3783fb01",
   "metadata": {
    "pycharm": {
     "name": "#%%\n"
    },
    "ExecuteTime": {
     "end_time": "2023-05-05T04:23:01.572379300Z",
     "start_time": "2023-05-05T04:23:01.551374500Z"
    }
   },
   "outputs": [],
   "source": [
    "def stretch(img):\n",
    "    maxi = float(img.max())\n",
    "    mini = float(img.min())\n",
    "    for i in range(img.shape[0]):\n",
    "        for j in range(img.shape[1]):\n",
    "            img[i,j] = (255/(maxi-mini)*img[i,j]-(255*mini)/(maxi-mini))\n",
    "    return img\n",
    "\n",
    "def dobinaryzation(img):\n",
    "    maxi = float(img.max())\n",
    "    mini = float(img.min())\n",
    "    x = maxi - ((maxi-mini)/2)\n",
    "    ret,thresh = cv2.threshold(img,x,255,cv2.THRESH_BINARY)\n",
    "    return thresh\n",
    "\n",
    "def find_rectangle(contour):\n",
    "    y,x = [],[]\n",
    "    for p in contour:\n",
    "        y.append(p[0][0])\n",
    "        x.append(p[0][1])\n",
    "    return [min(y),min(x),max(y),max(x)]\n",
    "\n",
    "def locate_license(img,afterimg):\n",
    "    img,contours,hierarchy = cv2.findContours(img,cv2.RETR_EXTERNAL,cv2.CHAIN_APPROX_SIMPLE)\n",
    "    block = []\n",
    "    for c in contours:\n",
    "        r = find_rectangle(c)\n",
    "        a = (r[2]-r[0])*(r[3]-r[1])\n",
    "        s = (r[2]-r[0])*(r[3]-r[1])\n",
    "        block.append([r,a,s])\n",
    "    block = sorted(block,key=lambda b:b[1])[-3:]\n",
    "    maxweight,maxindex = 0,-1\n",
    "    for i in range(len(block)):\n",
    "        b = afterimg[block[i][0][1]:block[i][0][3],block[i][0][0]:block[i][0][2]]\n",
    "        hsv = cv2.cvtColor(b,cv2.COLOR_BGR2HSV)\n",
    "        lower = np.array([100,50,50])\n",
    "        upper = np.array([140,255,255])\n",
    "        mask = cv2.inRange(hsv,lower,upper)\n",
    "        w1 = 0\n",
    "        for m in mask:\n",
    "            w1 += m/255\n",
    "        w2 = 0\n",
    "        for n in w1:\n",
    "            w2 += n\n",
    "        if w2 > maxweight:\n",
    "            maxindex = i\n",
    "            maxweight = w2\n",
    "    return block[maxindex][0]\n",
    "\n",
    "def find_license(img):\n",
    "    m = 400 * img.shape[0]/img.shape[1]\n",
    "    img = cv2.resize(img,(400,int(m)),interpolation=cv2.INTER_CUBIC)\n",
    "    gray_img = cv2.cvtColor(img,cv2.COLOR_BGR2GRAY)\n",
    "    stretchedimg = stretch(gray_img)\n",
    "    r = 16\n",
    "    h = w = r * 2 + 1\n",
    "    kernel = np.zeros((h,w),np.uint8)\n",
    "    cv2.circle(kernel,(r,r),r,1,-1)\n",
    "    openingimg = cv2.morphologyEx(stretchedimg,cv2.MORPH_OPEN,kernel)\n",
    "    strtimg = cv2.absdiff(stretchedimg,openingimg)\n",
    "    binaryimg = dobinaryzation(strtimg)\n",
    "    canny = cv2.Canny(binaryimg,binaryimg.shape[0],binaryimg.shape[1])\n",
    "    kernel = np.ones((5,19),np.uint8)\n",
    "    closingimg = cv2.morphologyEx(canny,cv2.MORPH_CLOSE,kernel)\n",
    "    openingimg = cv2.morphologyEx(closingimg,cv2.MORPH_OPEN,kernel)\n",
    "    rect = locate_license(openingimg,img)\n",
    "    return rect,img\n",
    "\n",
    "def cut_lincense(afterimg,rect):\n",
    "    rect[2] = rect[2] - rect[0]\n",
    "    rect[3] = rect[3] - rect[1]\n",
    "    rect_copy = tuple(rect.copy())\n",
    "    rect = [0,0,0,0]\n",
    "    mask = np.zeros(afterimg.shape[:2],np.uint8)\n",
    "    bgdModel = np.zeros((1,65),np.float64)\n",
    "    fgdModel = np.zeros((1,65),np.float64)\n",
    "    cv2.grabCut(afterimg,mask,rect_copy,bgdModel,fgdModel,5,cv2.GC_INIT_WITH_RECT)\n",
    "    mask2 = np.where((mask==2)|(mask==0),0,1).astype('unit8')\n",
    "    img_show = afterimg*mask2[:,:,np.newaxis]\n",
    "    return img_show\n",
    "\n",
    "def deal_lincense(lincenseimg):\n",
    "    gray_img = cv2.cvtColor(lincenseimg,cv2.COLOR_BGR2GRAY)\n",
    "    kernel = np.ones((3,3),np.float32)/9\n",
    "    gray_img = cv2.filter2D(gray_img,-1,kernel)\n",
    "    ret,thresh = cv2.threshold(gray_img,120,255,cv2.THRESH_BINARY)\n",
    "    return thresh\n",
    "\n",
    "def find_end(start,arg,black,white,width,black_max,white_max):\n",
    "    end = start + 1\n",
    "    for m in range(start+1,width-1):\n",
    "        if(black[m] if arg else white[m]) > (0.98 * black_max if arg else 0.98 * white_max):\n",
    "            end = m\n",
    "            break\n",
    "    return end"
   ]
  },
  {
   "cell_type": "code",
   "execution_count": 7,
   "id": "bdf1d40b",
   "metadata": {
    "pycharm": {
     "name": "#%%\n"
    },
    "ExecuteTime": {
     "end_time": "2023-05-05T04:23:17.315085600Z",
     "start_time": "2023-05-05T04:23:17.055347400Z"
    }
   },
   "outputs": [
    {
     "ename": "ValueError",
     "evalue": "not enough values to unpack (expected 3, got 2)",
     "output_type": "error",
     "traceback": [
      "\u001B[1;31m---------------------------------------------------------------------------\u001B[0m",
      "\u001B[1;31mValueError\u001B[0m                                Traceback (most recent call last)",
      "Cell \u001B[1;32mIn [7], line 2\u001B[0m\n\u001B[0;32m      1\u001B[0m img \u001B[38;5;241m=\u001B[39m cv2\u001B[38;5;241m.\u001B[39mimread(\u001B[38;5;124m\"\u001B[39m\u001B[38;5;124mpure.jpeg\u001B[39m\u001B[38;5;124m\"\u001B[39m,cv2\u001B[38;5;241m.\u001B[39mIMREAD_COLOR)\n\u001B[1;32m----> 2\u001B[0m rect,afterimg \u001B[38;5;241m=\u001B[39m \u001B[43mfind_license\u001B[49m\u001B[43m(\u001B[49m\u001B[43mimg\u001B[49m\u001B[43m)\u001B[49m\n\u001B[0;32m      3\u001B[0m cv2\u001B[38;5;241m.\u001B[39mrectangle(afterimg,(rect[\u001B[38;5;241m0\u001B[39m],rect[\u001B[38;5;241m1\u001B[39m]),(rect[\u001B[38;5;241m2\u001B[39m],rect[\u001B[38;5;241m3\u001B[39m]),(\u001B[38;5;241m0\u001B[39m,\u001B[38;5;241m255\u001B[39m,\u001B[38;5;241m0\u001B[39m),\u001B[38;5;241m2\u001B[39m)\n\u001B[0;32m      4\u001B[0m cv2\u001B[38;5;241m.\u001B[39mimshow(\u001B[38;5;124m\"\u001B[39m\u001B[38;5;124mafterimg\u001B[39m\u001B[38;5;124m\"\u001B[39m,afterimg)\n",
      "Cell \u001B[1;32mIn [5], line 66\u001B[0m, in \u001B[0;36mfind_license\u001B[1;34m(img)\u001B[0m\n\u001B[0;32m     64\u001B[0m closingimg \u001B[38;5;241m=\u001B[39m cv2\u001B[38;5;241m.\u001B[39mmorphologyEx(canny,cv2\u001B[38;5;241m.\u001B[39mMORPH_CLOSE,kernel)\n\u001B[0;32m     65\u001B[0m openingimg \u001B[38;5;241m=\u001B[39m cv2\u001B[38;5;241m.\u001B[39mmorphologyEx(closingimg,cv2\u001B[38;5;241m.\u001B[39mMORPH_OPEN,kernel)\n\u001B[1;32m---> 66\u001B[0m rect \u001B[38;5;241m=\u001B[39m \u001B[43mlocate_license\u001B[49m\u001B[43m(\u001B[49m\u001B[43mopeningimg\u001B[49m\u001B[43m,\u001B[49m\u001B[43mimg\u001B[49m\u001B[43m)\u001B[49m\n\u001B[0;32m     67\u001B[0m \u001B[38;5;28;01mreturn\u001B[39;00m rect,img\n",
      "Cell \u001B[1;32mIn [5], line 24\u001B[0m, in \u001B[0;36mlocate_license\u001B[1;34m(img, afterimg)\u001B[0m\n\u001B[0;32m     23\u001B[0m \u001B[38;5;28;01mdef\u001B[39;00m \u001B[38;5;21mlocate_license\u001B[39m(img,afterimg):\n\u001B[1;32m---> 24\u001B[0m     img,contours,hierarchy \u001B[38;5;241m=\u001B[39m cv2\u001B[38;5;241m.\u001B[39mfindContours(img,cv2\u001B[38;5;241m.\u001B[39mRETR_EXTERNAL,cv2\u001B[38;5;241m.\u001B[39mCHAIN_APPROX_SIMPLE)\n\u001B[0;32m     25\u001B[0m     block \u001B[38;5;241m=\u001B[39m []\n\u001B[0;32m     26\u001B[0m     \u001B[38;5;28;01mfor\u001B[39;00m c \u001B[38;5;129;01min\u001B[39;00m contours:\n",
      "\u001B[1;31mValueError\u001B[0m: not enough values to unpack (expected 3, got 2)"
     ]
    }
   ],
   "source": [
    "img = cv2.imread(\"pure.jpeg\",cv2.IMREAD_COLOR)\n",
    "rect,afterimg = find_license(img)\n",
    "cv2.rectangle(afterimg,(rect[0],rect[1]),(rect[2],rect[3]),(0,255,0),2)\n",
    "cv2.imshow(\"afterimg\",afterimg)\n",
    "cutimg = cut_lincense(afterimg,rect)\n",
    "cv2.imshow(\"cutimg\",cutimg)\n",
    "thresh = deal_lincense(cutimg)\n",
    "cv2.imshow(\"thresh\",thresh)\n",
    "cv2.waitKey(0)\n",
    "\n",
    "white = []\n",
    "black = []\n",
    "height = thresh.shape[0]\n",
    "width = thresh.shape[1]\n",
    "white_max = 0\n",
    "black_max = 0\n",
    "for i in range(width):\n",
    "    line_white = 0\n",
    "    line_black = 0\n",
    "    for j in range(height):\n",
    "        if thresh[j][i] == 255:\n",
    "            line_white += 1\n",
    "        if thresh[j][i] == 0:\n",
    "            line_black += 1\n",
    "    white_max = max(white_max,line_white)\n",
    "    black_max = max(black_max,line_black)\n",
    "    white.append(line_white)\n",
    "    black.append(line_black)\n",
    "    print(\"white\",white)\n",
    "    print(\"black\",black)\n",
    "\n",
    "arg = True\n",
    "if black_max < white_max :\n",
    "    arg = False\n",
    "\n",
    "n = 1\n",
    "start = 1\n",
    "end = 2\n",
    "s_width = 28\n",
    "s_height = 28\n",
    "while n < width - 2 :\n",
    "    n += 1\n",
    "    if(white[n] if arg else black[n]) > (0.02 * white_max if arg else 0.02 * black_max):\n",
    "        start = n\n",
    "        end = find_end(start,arg,black,white,black_max,white_max)\n",
    "        n = end\n",
    "    if end - start > 5:\n",
    "        cj = thresh[1:height,start:end]\n",
    "        print(\"result/%s.jpg\"%(n))\n",
    "        infilte = \"result/%s.jpg\"%(n)\n",
    "        io.imsave(infilte,cj)\n",
    "        cv2.imshow(\"cutlincense\",cj)\n",
    "        cv2.waitKey(0)\n",
    "\n",
    "cv2.waitKey(0)\n",
    "cv2.destroyAllWindows()\n",
    "\n"
   ]
  },
  {
   "cell_type": "code",
   "execution_count": null,
   "id": "35e4f0f2",
   "metadata": {},
   "outputs": [],
   "source": []
  },
  {
   "cell_type": "code",
   "execution_count": null,
   "id": "68ebf201",
   "metadata": {},
   "outputs": [],
   "source": []
  }
 ],
 "metadata": {
  "kernelspec": {
   "name": "python3",
   "language": "python",
   "display_name": "Python 3 (ipykernel)"
  },
  "language_info": {
   "codemirror_mode": {
    "name": "ipython",
    "version": 3
   },
   "file_extension": ".py",
   "mimetype": "text/x-python",
   "name": "python",
   "nbconvert_exporter": "python",
   "pygments_lexer": "ipython3",
   "version": "3.8.16"
  }
 },
 "nbformat": 4,
 "nbformat_minor": 5
}
