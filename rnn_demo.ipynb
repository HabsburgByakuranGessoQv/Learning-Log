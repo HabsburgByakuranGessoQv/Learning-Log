{
 "cells": [
  {
   "cell_type": "code",
   "execution_count": 2,
   "id": "2732a1c0",
   "metadata": {},
   "outputs": [],
   "source": [
    "import  torch\n",
    "from    torch import nn\n",
    "from    torch import optim\n",
    "from    torch.nn import functional as F"
   ]
  },
  {
   "cell_type": "code",
   "execution_count": 6,
   "id": "0d3a2195",
   "metadata": {},
   "outputs": [
    {
     "name": "stdout",
     "output_type": "stream",
     "text": [
      "odict_keys(['weight_ih_l0', 'weight_hh_l0', 'bias_ih_l0', 'bias_hh_l0'])\n"
     ]
    }
   ],
   "source": [
    "# one-layer RNN\n",
    "rnn=nn.RNN(100,10)  #[input dim(feature dim/word vector),hidden dim]\n",
    "print(rnn._parameters.keys())\n"
   ]
  },
  {
   "attachments": {
    "1683677959092.png": {
     "image/png": "[encoded data removed]"
    }
   },
   "cell_type": "markdown",
   "id": "086da3dd",
   "metadata": {},
   "source": [
    "![1683677959092.png](attachment:1683677959092.png)"
   ]
  },
  {
   "cell_type": "code",
   "execution_count": 7,
   "id": "7c3889b7",
   "metadata": {},
   "outputs": [
    {
     "name": "stdout",
     "output_type": "stream",
     "text": [
      "torch.Size([10, 10])\n"
     ]
    }
   ],
   "source": [
    "print(rnn.weight_hh_l0.shape) #[hidden dim, hidden dim]\n"
   ]
  },
  {
   "cell_type": "code",
   "execution_count": 8,
   "id": "c41d20c5",
   "metadata": {},
   "outputs": [
    {
     "name": "stdout",
     "output_type": "stream",
     "text": [
      "torch.Size([10, 100])\n"
     ]
    }
   ],
   "source": [
    "print(rnn.weight_ih_l0.shape) #[hidden dim, feature dim]\n"
   ]
  },
  {
   "cell_type": "code",
   "execution_count": 9,
   "id": "0e3bad73",
   "metadata": {},
   "outputs": [
    {
     "name": "stdout",
     "output_type": "stream",
     "text": [
      "torch.Size([10])\n"
     ]
    }
   ],
   "source": [
    "print(rnn.bias_hh_l0.shape) #eq[hidden dim]\n"
   ]
  },
  {
   "cell_type": "code",
   "execution_count": 10,
   "id": "c62f89ec",
   "metadata": {},
   "outputs": [
    {
     "name": "stdout",
     "output_type": "stream",
     "text": [
      "torch.Size([10])\n"
     ]
    }
   ],
   "source": [
    "print(rnn.bias_hh_l0.shape) #eq[hidden dim]\n"
   ]
  },
  {
   "cell_type": "code",
   "execution_count": 11,
   "id": "2dbd5e88",
   "metadata": {},
   "outputs": [
    {
     "name": "stdout",
     "output_type": "stream",
     "text": [
      "odict_keys(['weight_ih_l0', 'weight_hh_l0', 'bias_ih_l0', 'bias_hh_l0', 'weight_ih_l1', 'weight_hh_l1', 'bias_ih_l1', 'bias_hh_l1'])\n"
     ]
    }
   ],
   "source": [
    "# multi-layer RNN (2 layer )\n",
    "rnn=nn.RNN(100,10,num_layers=2)  #[input dim(feature dim/word vector),hidden dim]\n",
    "print(rnn._parameters.keys())\n"
   ]
  },
  {
   "cell_type": "code",
   "execution_count": 12,
   "id": "73903e3f",
   "metadata": {},
   "outputs": [
    {
     "name": "stdout",
     "output_type": "stream",
     "text": [
      "torch.Size([10, 10]) torch.Size([10, 100])\n"
     ]
    }
   ],
   "source": [
    "#[hidden dim, hidden dim],[hidden dim, feature dim]\n",
    "print(rnn.weight_hh_l0.shape,rnn.weight_ih_l0.shape)   #第0层\n"
   ]
  },
  {
   "cell_type": "code",
   "execution_count": 14,
   "id": "8a42efb4",
   "metadata": {},
   "outputs": [
    {
     "name": "stdout",
     "output_type": "stream",
     "text": [
      "torch.Size([10, 10]) torch.Size([10, 10])\n"
     ]
    }
   ],
   "source": [
    "print(rnn.weight_hh_l1.shape,rnn.weight_ih_l1.shape)  #第1层\n",
    "\n",
    "\n",
    "# hidden dim相当于全连接中的一个隐藏层，可以负责升维或者是降维的操作\n",
    "# 当有单层的rnn变成多层的rnn时，也就意味着此时对于下一层RNN的输入不是原来的特征，而是经过第一层rnn处理后的特征\n",
    "# 0 layer :word vector:100\n",
    "# 1 layer :word vector:10"
   ]
  },
  {
   "cell_type": "code",
   "execution_count": 2,
   "id": "10319b9e",
   "metadata": {},
   "outputs": [],
   "source": [
    "############## nn.RNN ##############"
   ]
  },
  {
   "cell_type": "code",
   "execution_count": 15,
   "id": "dfab0baa",
   "metadata": {},
   "outputs": [
    {
     "name": "stdout",
     "output_type": "stream",
     "text": [
      "RNN(100, 20)\n"
     ]
    }
   ],
   "source": [
    "# [input dim(feature dim/word vector),hidden dim,num layers(default Settings is 1)]\n",
    "rnn = nn.RNN(input_size=100, hidden_size=20, num_layers=1)\n",
    "print(rnn)\n",
    "#RNN(100, 20)"
   ]
  },
  {
   "cell_type": "code",
   "execution_count": 16,
   "id": "19730601",
   "metadata": {},
   "outputs": [
    {
     "name": "stdout",
     "output_type": "stream",
     "text": [
      "torch.Size([10, 3, 20]) torch.Size([1, 3, 20])\n"
     ]
    }
   ],
   "source": [
    "# x：[seq len, batch, word vector]\n",
    "x = torch.randn(10, 3, 100)\n",
    "# out:[seq len,batch,hidden dim] [10,3,20]\n",
    "# h0/ht:[num layers,batch,hidden dim] [1,3,20]\n",
    "out, h = rnn(x, torch.zeros(1, 3, 20))\n",
    "print(out.shape, h.shape)\n",
    "#torch.Size([10, 3, 20]) torch.Size([1, 3, 20])"
   ]
  },
  {
   "cell_type": "code",
   "execution_count": 8,
   "id": "696aa7fb",
   "metadata": {},
   "outputs": [
    {
     "name": "stdout",
     "output_type": "stream",
     "text": [
      "RNN(100, 20, num_layers=4)\n"
     ]
    }
   ],
   "source": [
    "rnn = nn.RNN(input_size=100, hidden_size=20, num_layers=4)\n",
    "print(rnn)\n",
    "#RNN(100, 20, num_layers=4)"
   ]
  },
  {
   "cell_type": "code",
   "execution_count": 9,
   "id": "ec4cf2d6",
   "metadata": {},
   "outputs": [
    {
     "name": "stdout",
     "output_type": "stream",
     "text": [
      "torch.Size([10, 3, 20]) torch.Size([4, 3, 20])\n"
     ]
    }
   ],
   "source": [
    "x = torch.randn(10, 3, 100)\n",
    "# out:[seq len,batch,hidden dim] [10,3,20]\n",
    "# h0/ht:[num layers,batch,hidden dim] [4,3,20]\n",
    "out, h = rnn(x, torch.zeros(4, 3, 20))\n",
    "#out, h = rnn(x)  #与上一行等价，这里没有传h0进来\n",
    "print(out.shape, h.shape)\n",
    "# torch.Size([10, 3, 20]) torch.Size([4, 3, 20])\n",
    "# print(vars(rnn))"
   ]
  },
  {
   "cell_type": "code",
   "execution_count": 10,
   "id": "b68f1eb4",
   "metadata": {},
   "outputs": [],
   "source": [
    "# 多层RNN与单层RNN对比，out.shape不变，但h.shape改变\n",
    "# out同样是最后输出的集合，表示为[h0,h1,…,hi]的组合叠加\n",
    "# h则是每一层最后隐藏单元的集合"
   ]
  },
  {
   "cell_type": "code",
   "execution_count": 17,
   "id": "76e579ab",
   "metadata": {},
   "outputs": [
    {
     "name": "stdout",
     "output_type": "stream",
     "text": [
      "rnn by cell\n"
     ]
    }
   ],
   "source": [
    "################ nn.RNNcell ################\n",
    "print('rnn by cell')\n",
    "\n",
    "# 与nn.RNN相比，nn.RNNcell没有循环\n",
    "# RNNcell的forward参数，ht=rnncell[xt,ht_1]\n",
    "# xt:[b,word vec]\n",
    "# ht_1/ht:[num_layer,b,h_dim]\n",
    "# out=torch.stack[h1,h2,...,ht]"
   ]
  },
  {
   "cell_type": "code",
   "execution_count": 14,
   "id": "c298fa9d",
   "metadata": {},
   "outputs": [
    {
     "name": "stdout",
     "output_type": "stream",
     "text": [
      "torch.Size([3, 20])\n"
     ]
    }
   ],
   "source": [
    "# 1-layer\n",
    "cell1 = nn.RNNCell(100, 20)  #[word vec,h_dim]\n",
    "h1 = torch.zeros(3, 20)  #[b,h_dim]\n",
    "for xt in x:\n",
    "    h1 = cell1(xt, h1)\n",
    "#    print(h1.shape)\n",
    "print(h1.shape)\n",
    "    # torch.Size([3, 20])"
   ]
  },
  {
   "cell_type": "code",
   "execution_count": 15,
   "id": "8b262e41",
   "metadata": {},
   "outputs": [
    {
     "name": "stdout",
     "output_type": "stream",
     "text": [
      "torch.Size([3, 20])\n"
     ]
    }
   ],
   "source": [
    "# multi-layer\n",
    "cell1 = nn.RNNCell(100, 30)   #[word vec,h_dim],100 dim reduce to 30\n",
    "cell2 = nn.RNNCell(30, 20)    #[word vec,h_dim],30 dim reduce to 20\n",
    "h1 = torch.zeros(3, 30)\n",
    "h2 = torch.zeros(3, 20)\n",
    "for xt in x:\n",
    "    h1 = cell1(xt, h1)\n",
    "    h2 = cell2(h1, h2)\n",
    "print(h2.shape)\n",
    "    #torch.Size([3, 20])"
   ]
  },
  {
   "cell_type": "code",
   "execution_count": 16,
   "id": "7b01a37a",
   "metadata": {},
   "outputs": [],
   "source": [
    "################ nn.LSTM ################"
   ]
  },
  {
   "cell_type": "code",
   "execution_count": 17,
   "id": "1a86ec9d",
   "metadata": {},
   "outputs": [
    {
     "name": "stdout",
     "output_type": "stream",
     "text": [
      "Lstm\n"
     ]
    }
   ],
   "source": [
    " print('Lstm')\n",
    "\n",
    "# LSTM.forward()\n",
    "# out,(ht,ct)=lstm(x,[(ht_1,ct_1)])  ht_1=ct_1\n",
    "# x : [seq , b, word vec]\n",
    "# h/c :[num_layer ,b, h]\n",
    "# out :[seq , b, h]"
   ]
  },
  {
   "cell_type": "code",
   "execution_count": 18,
   "id": "dfd3cb77",
   "metadata": {},
   "outputs": [
    {
     "name": "stdout",
     "output_type": "stream",
     "text": [
      "LSTM(100, 20, num_layers=4)\n",
      "torch.Size([10, 3, 20]) torch.Size([4, 3, 20]) torch.Size([4, 3, 20])\n"
     ]
    }
   ],
   "source": [
    "lstm = nn.LSTM(input_size=100, hidden_size=20, num_layers=4)\n",
    "print(lstm)\n",
    "#LSTM(100, 20, num_layers=4)\n",
    "x = torch.randn(10, 3, 100)\n",
    "out, (h, c) = lstm(x)\n",
    "print(out.shape, h.shape, c.shape)\n",
    "# torch.Size([10, 3, 20]) torch.Size([4, 3, 20]) torch.Size([4, 3, 20])"
   ]
  },
  {
   "cell_type": "code",
   "execution_count": 19,
   "id": "d8f1fccb",
   "metadata": {},
   "outputs": [],
   "source": [
    "############# nn.LSTMCell ###########\n",
    "\n",
    "# LSTMCell.forward()\n",
    "# ht,ct = lstmcell(xt,[ht_1,ct_1])\n",
    "# xt:[b,word vec]\n",
    "# ht/ct:[b,h]\n"
   ]
  },
  {
   "cell_type": "code",
   "execution_count": 20,
   "id": "f43c8f56",
   "metadata": {},
   "outputs": [
    {
     "name": "stdout",
     "output_type": "stream",
     "text": [
      "one layer lstm\n",
      "torch.Size([3, 20]) torch.Size([3, 20])\n"
     ]
    }
   ],
   "source": [
    "# one layer\n",
    "print('one layer lstm')\n",
    "cell = nn.LSTMCell(input_size=100, hidden_size=20)\n",
    "h = torch.zeros(3, 20)\n",
    "c = torch.zeros(3, 20)\n",
    "for xt in x:\n",
    "    h, c = cell(xt, [h, c])\n",
    "print(h.shape, c.shape)\n",
    "    #torch.Size([3, 20]) torch.Size([3, 20])"
   ]
  },
  {
   "cell_type": "code",
   "execution_count": 21,
   "id": "1055cc88",
   "metadata": {},
   "outputs": [
    {
     "name": "stdout",
     "output_type": "stream",
     "text": [
      "two layer lstm\n",
      "torch.Size([3, 20]) torch.Size([3, 20])\n"
     ]
    }
   ],
   "source": [
    "#two layer\n",
    "print('two layer lstm')\n",
    "cell1 = nn.LSTMCell(input_size=100, hidden_size=30)\n",
    "cell2 = nn.LSTMCell(input_size=30, hidden_size=20)\n",
    "h1 = torch.zeros(3, 30)\n",
    "c1 = torch.zeros(3, 30)\n",
    "h2 = torch.zeros(3, 20)\n",
    "c2 = torch.zeros(3, 20)\n",
    "for xt in x:\n",
    "    h1, c1 = cell1(xt, [h1, c1])\n",
    "    h2, c2 = cell2(h1, [h2, c2])\n",
    "print(h2.shape, c2.shape)\n",
    "    #torch.Size([3, 20]) torch.Size([3, 20])"
   ]
  },
  {
   "cell_type": "code",
   "execution_count": null,
   "id": "7dfb3a4a",
   "metadata": {},
   "outputs": [],
   "source": []
  }
 ],
 "metadata": {
  "kernelspec": {
   "display_name": "Python 3 (ipykernel)",
   "language": "python",
   "name": "python3"
  },
  "language_info": {
   "codemirror_mode": {
    "name": "ipython",
    "version": 3
   },
   "file_extension": ".py",
   "mimetype": "text/x-python",
   "name": "python",
   "nbconvert_exporter": "python",
   "pygments_lexer": "ipython3",
   "version": "3.9.16"
  }
 },
 "nbformat": 4,
 "nbformat_minor": 5
}
