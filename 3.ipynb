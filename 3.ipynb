{
 "cells": [
  {
   "cell_type": "markdown",
   "metadata": {},
   "source": [
    "# 基于支持向量机的Digits手写数字识别"
   ]
  },
  {
   "cell_type": "markdown",
   "metadata": {},
   "source": [
    "# 1、加载查看Digits数据集"
   ]
  },
  {
   "cell_type": "code",
   "execution_count": null,
   "metadata": {},
   "outputs": [],
   "source": [
    "import warnings\n",
    "warnings.filterwarnings('ignore')\n",
    "from sklearn.datasets import load_digits\n",
    "from sklearn.model_selection import train_test_split\n",
    "from sklearn.svm import SVC\n",
    "import matplotlib.pyplot as plt\n",
    "from sklearn.preprocessing import label_binarize\n",
    "from sklearn.metrics import roc_curve,auc\n",
    "from sklearn.multiclass import OneVsRestClassifier\n",
    "import numpy as np\n",
    "from scipy import interp\n",
    "from itertools import cycle\n",
    "\n",
    "\n",
    "# 加载Digits数据集\n",
    "digits = load_digits()\n",
    "data = digits.data # 样本数据\n",
    "target = digits.target # 标签数据\n",
    "print(data.shape, target.shape) # 输出数组形状\n",
    "\n",
    "# 使用Matplotlib，显示前20张图片\n",
    "fig = plt.figure(figsize=(8, 8), facecolor='w')\n",
    "for i in range(20):\n",
    "    ax = fig.add_subplot(4, 5, i+1) \n",
    "    \n",
    "    # matshow方法将像素矩阵显示为图片\n",
    "    # data中的图片像素为长度64的一维数组，需要转成8*8的二维数组来显示\n",
    "'''\n",
    "请使用matshow方法将像素矩阵显示为图片\n",
    "'''\n",
    "    \n",
    "    \n",
    "plt.show()"
   ]
  },
  {
   "cell_type": "markdown",
   "metadata": {},
   "source": [
    "# 2、拆分数据集、创建模型\n",
    "     \n",
    "\n",
    "    1.SVC可选的核函数参数有很多，请查看SVC函数的文档，学习不同参数，使用不同的核函数建立模型并进行实验。\n",
    "        |___    kernel : {'linear', 'poly', 'rbf', 'sigmoid', 'precomputed'} or callable,\n",
    "                default='rbf'\n",
    "                Specifies the kernel type to be used in the algorithm.\n",
    "                If none is given, 'rbf' will be used. If a callable is given it is\n",
    "                used to pre-compute the kernel matrix from data matrices; that matrix\n",
    "                should be an array of shape ``(n_samples, n_samples)``.\n",
    "    \n",
    "    2.这里使用python字典配合循环块批量定义不同参数的SVC模型，以精简代码，便于后续改进工作的进行;\n",
    "    也可以定义完模型后重复编写代码调用模型进行拟合，这样使用更为简单直接，但复用性不高。\n",
    "        |___    e.g.    model = {}\n",
    "                    model['key1'] = SVC(\"parameter1\")\n",
    "                    model['key2'] = SVC(\"parameter2\")\n",
    "                    for key ,value in modelss.items():\n",
    "                         model = value.fit(X_train, y_train)\n",
    "                         score = model.score(X_test, y_test)\n",
    "                         print(\"%s score is : %.2f\" %(key, score))\n",
    "                         y_pred = model.predict(X_test[:20])\n",
    "                         print('%s验证的预测数字：'%key, y_pred)\n",
    "                         print('%s验证的实际数字：'%key, y_test[:20])\n",
    "                         print(\"\\n\")\n"
   ]
  },
  {
   "cell_type": "code",
   "execution_count": null,
   "metadata": {
    "scrolled": true
   },
   "outputs": [],
   "source": [
    "# 拆分数据集\n",
    "X_train, X_test, y_train, y_test = train_test_split(data, target, \n",
    "                                                    test_size=0.7, random_state=0)\n",
    "print(X_train.shape, X_test.shape)\n",
    "\n",
    "\n",
    "#定义模型\n",
    "'''\n",
    "SVC的gamma参数已给出，现需要按照相应的字典名设置kernel函数为'linear', 'poly', 'rbf', 'sigmoid'\n",
    "'''\n",
    "\n",
    "\n",
    "\n",
    "\n",
    "\n",
    "\n",
    "\n",
    "#训练模型并输出结果\n",
    "for key ,value in modelss.items():\n",
    "    model = value.fit(X_train, y_train)\n",
    "    score = model.score(X_test, y_test)\n",
    "    print(\"%s score is : %.2f\" %(key, score))\n",
    "    y_pred = model.predict(X_test[:20])\n",
    "    print('%s验证的预测数字：'%key, y_pred)\n",
    "    print('%s验证的实际数字：'%key, y_test[:20])\n",
    "    print(\"\\n\")"
   ]
  },
  {
   "cell_type": "markdown",
   "metadata": {},
   "source": [
    "# 3.1、正则化参数的修改"
   ]
  },
  {
   "cell_type": "code",
   "execution_count": null,
   "metadata": {},
   "outputs": [],
   "source": [
    "'''\n",
    "请使用四个正则化参数0.01, 0.05, 0.1, 0.5,列表记录四组分类正确率的数据（请修改模型中的C值）\n",
    "'''\n",
    "# 例如：\n",
    "# modelss = {}\n",
    "# modelss[\"rbf_kernel\"] = SVC(C=1,kernel = 'rbf',gamma = 'scale')\n",
    "# modelss[\"poly_kernel\"] = SVC(C=1,kernel = 'poly',gamma = 'scale')\n",
    "# modelss[\"sigmoid_kernel\"] = SVC(C=1,kernel = 'sigmoid',gamma = 'scale')\n",
    "# modelss[\"linear_kernel\"]=  SVC(C=1,kernel = 'linear',gamma = 'scale')\n",
    "\n",
    "#训练模型并输出结果\n",
    "for key ,value in modelss.items():\n",
    "    model = value.fit(X_train, y_train)\n",
    "    score = model.score(X_test, y_test)\n",
    "    print(\"%s score is : %.2f\" %(key, score))\n",
    "    y_pred = model.predict(X_test[:50])\n",
    "    print('%s验证的预测数字：'%key, y_pred)\n",
    "    print('%s验证的实际数字：'%key, y_test[:50])\n",
    "    print(\"\\n\")\n",
    "    \n",
    "    "
   ]
  },
  {
   "cell_type": "markdown",
   "metadata": {},
   "source": [
    "# 3.2、多项式维度参数degree的修改"
   ]
  },
  {
   "cell_type": "code",
   "execution_count": null,
   "metadata": {},
   "outputs": [],
   "source": [
    "#请修改SVC()中的degree参数分别为 1, 3, 5, 7, 9 ，列表记录模型准确率\n",
    "model = SVC(kernel='poly',degree=9)\n",
    "model = model.fit(X_train, y_train)\n",
    "score = model.score(X_test, y_test)\n",
    "print(\"%s score is : %.2f\" %(key, score))\n",
    "y_pred = model.predict(X_test[:50])\n",
    "print('%s验证的预测数字：'%key, y_pred)\n",
    "print('%s验证的实际数字：'%key, y_test[:50])\n",
    "print(\"\\n\")"
   ]
  },
  {
   "cell_type": "markdown",
   "metadata": {},
   "source": [
    "# 4、绘制ROC曲线"
   ]
  },
  {
   "cell_type": "code",
   "execution_count": null,
   "metadata": {},
   "outputs": [],
   "source": [
    "y = label_binarize(target, classes = [0,1,2,3,4,5,6,7,8,9])\n",
    "n_classes = y.shape[1]\n",
    "\n",
    "X_train, X_test, y_train, y_test = train_test_split(data, y, test_size=.5,random_state=0)\n",
    "\n",
    "classifier = OneVsRestClassifier(SVC(kernel='linear', probability=True,\n",
    "                                 random_state=1))\n",
    "y_score = classifier.fit(X_train, y_train).decision_function(X_test)\n",
    "\n",
    "#计算每一类的ROC\n",
    "'''此部分循环计算了每一类分类相对于其它所有类别的真阳率tpr和假阳率fpr，并记录在响应字典值中'''\n",
    "fpr = dict()\n",
    "tpr = dict()\n",
    "roc_auc = dict()\n",
    "for i in range(n_classes):\n",
    "    fpr[i], tpr[i], _ = roc_curve(y_test[:,i], y_score[:,i])\n",
    "    roc_auc[i] = auc(fpr[i], tpr[i])\n",
    "\n",
    "\n",
    "#绘制ROC曲线\n",
    "plt.figure()\n",
    "lw = 2\n",
    "'''\n",
    "下列示例中绘制的是数字0的ROC曲线，上一部分代码已经计算了每一个分类相对于其他所有分类\n",
    "的真阳率tpr和假阳率fpr；请改变参数值，使用不同颜色绘制数字8和9相应的两条ROC曲线\n",
    "'''\n",
    "#plt.plot(fpr[0], tpr[0], color='darkorange', lw=lw, label='ROC curve 0(area = %0.2f)' % roc_auc[0])\n",
    "'''\n",
    "//=============================请在此编写代码=======================//\n",
    "'''\n",
    "\n",
    "plt.plot([0, 1], [0, 1], color='navy', lw=lw, linestyle='--')\n",
    "plt.xlim([0.0, 1.0])\n",
    "plt.ylim([0.0, 1.05])\n",
    "plt.xlabel('FPR')\n",
    "plt.ylabel('TPR')\n",
    "plt.title('ROC CURVE')\n",
    "plt.legend(loc=\"lower right\")\n",
    "plt.show()\n"
   ]
  },
  {
   "cell_type": "code",
   "execution_count": null,
   "metadata": {},
   "outputs": [],
   "source": []
  }
 ],
 "metadata": {
  "celltoolbar": "无",
  "kernelspec": {
   "display_name": "Python 3",
   "language": "python",
   "name": "python3"
  },
  "language_info": {
   "codemirror_mode": {
    "name": "ipython",
    "version": 3
   },
   "file_extension": ".py",
   "mimetype": "text/x-python",
   "name": "python",
   "nbconvert_exporter": "python",
   "pygments_lexer": "ipython3",
   "version": "3.8.5"
  }
 },
 "nbformat": 4,
 "nbformat_minor": 4
}
