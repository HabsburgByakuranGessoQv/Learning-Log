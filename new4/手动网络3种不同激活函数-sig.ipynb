{
 "cells": [
  {
   "cell_type": "code",
   "execution_count": 1,
   "metadata": {
    "collapsed": true
   },
   "outputs": [],
   "source": [
    "## 导入各种库\n",
    "import torch\n",
    "import torchvision\n",
    "from torch.utils import data\n",
    "from torchvision import transforms\n",
    "from torchvision import datasets\n",
    "import torch.nn as nn\n",
    "import numpy as np\n",
    "import matplotlib.pyplot as plt"
   ]
  },
  {
   "cell_type": "code",
   "execution_count": 2,
   "outputs": [],
   "source": [
    "# 下载数据并将所有数据转换为 𝐓𝐞𝐧𝐬𝐨𝐫 ，train为是否训练数据集，download默认网上下载\n",
    "data_path=r'E:\\STUDYCONTENT\\Pycharm\\DeepLearningExp'\n",
    "mnist_train = torchvision.datasets.FashionMNIST(data_path, train=True, download=False, transform=transforms.ToTensor())\n",
    "mnist_test = torchvision.datasets.FashionMNIST(data_path, train=False, download=False, transform=transforms.ToTensor())\n",
    "\n"
   ],
   "metadata": {
    "collapsed": false
   }
  },
  {
   "cell_type": "code",
   "execution_count": 3,
   "outputs": [
    {
     "data": {
      "text/plain": "469"
     },
     "execution_count": 3,
     "metadata": {},
     "output_type": "execute_result"
    }
   ],
   "source": [
    "# 通过 𝐃𝐚𝐭𝐚𝐋𝐨𝐚𝐝𝐞𝐫 读取小批量数据样本，shuffle是否打乱顺序，num_workers为进程的个数\n",
    "batch_size = 128\n",
    "train_iter = torch.utils.data.DataLoader(mnist_train, batch_size=batch_size, shuffle=True, num_workers=0)\n",
    "test_iter = torch.utils.data.DataLoader(mnist_test, batch_size=batch_size, shuffle=False, num_workers=0)\n",
    "len(train_iter)"
   ],
   "metadata": {
    "collapsed": false
   }
  },
  {
   "cell_type": "code",
   "execution_count": 4,
   "outputs": [],
   "source": [
    "## 参数初始化\n",
    "num_inputs = 784# 拉成向量的长度\n",
    "num_hiddens=256 #隐藏层的神经元数\n",
    "num_outputs = 10# 分类的类别个数\n",
    "W1 = torch.normal(0, 0.01, size=(num_inputs, num_hiddens))# 权重的高斯随机初始化\n",
    "b1 = torch.zeros(num_hiddens)                             # 偏移的随机初始化\n",
    "W2 = torch.normal(0, 0.01, size=(num_hiddens, num_outputs))# 权重的高斯随机初始化\n",
    "b2 = torch.zeros(num_outputs)\n",
    "params=[W1,b1,W2,b2]\n",
    "\n",
    "for param in params:\n",
    "    param.requires_grad_(requires_grad=True)"
   ],
   "metadata": {
    "collapsed": false
   }
  },
  {
   "cell_type": "code",
   "execution_count": 5,
   "outputs": [],
   "source": [
    "#选用常用ReLU作为激活函数\n",
    "#def relu(z):\n",
    " #   z=np.where(z>0,z,0)\n",
    " #   return  torch.tensor(z)\n",
    "def relu(X): # 激活函数\n",
    "    return torch.max(input=X, other=torch.tensor(0.0))\n",
    "    # 使用基础的max函数来实现ReLU，而非直接调用relu函数\n",
    "\n",
    "def tanh(X):\n",
    "    torch.tanh(X)\n",
    "\n",
    "def sigmoid(X):\n",
    "    return torch.sigmoid(X)"
   ],
   "metadata": {
    "collapsed": false
   }
  },
  {
   "cell_type": "code",
   "execution_count": 6,
   "outputs": [],
   "source": [
    "## 网络\n",
    "# 定义Softmax\n",
    "def softmax(X):\n",
    "    return torch.exp(X) / torch.exp(X).sum()  # 这里应用了广播机制\n"
   ],
   "metadata": {
    "collapsed": false
   }
  },
  {
   "cell_type": "code",
   "execution_count": 7,
   "outputs": [],
   "source": [
    "# 定义网络模型\n",
    "\n",
    "def net(X): # 定义模型结构\n",
    "    X = X.view((-1, num_inputs)) # view函数将每张原始图像改成长度为num_inputs的向量\n",
    "    H = sigmoid(torch.matmul(X, W1) + b1)\n",
    "    return torch.matmul(H, W2) + b2\n",
    "#    return nn.LogSoftmax(torch.matmul(H, W2) + b2)\n"
   ],
   "metadata": {
    "collapsed": false
   }
  },
  {
   "cell_type": "code",
   "execution_count": 8,
   "outputs": [],
   "source": [
    "## 交叉熵损失\n",
    "loss = torch.nn.CrossEntropyLoss() # 损失函数\n",
    "## 交叉熵损失\n",
    "#loss=nn.NLLloss()"
   ],
   "metadata": {
    "collapsed": false
   }
  },
  {
   "cell_type": "code",
   "execution_count": 9,
   "outputs": [],
   "source": [
    "## 梯度下降\n",
    "def sgd(params, lr, batch_size):\n",
    "    for param in params:\n",
    "        param.data -= lr * param.grad / batch_size  # 注意这里更改param时用的param.data"
   ],
   "metadata": {
    "collapsed": false
   }
  },
  {
   "cell_type": "code",
   "execution_count": 10,
   "outputs": [],
   "source": [
    "#计算模型在某个数据集上的准确率\n",
    "def evaluate_accuracy(data_iter, net):\n",
    "    acc_sum, n = 0.0, 0\n",
    "    for X, y in data_iter:\n",
    "        acc_sum += (softmax(net(X)).argmax(dim=1) == y).float().sum().item()\n",
    "        n += y.shape[0]\n",
    "    return acc_sum / n\n"
   ],
   "metadata": {
    "collapsed": false
   }
  },
  {
   "cell_type": "code",
   "execution_count": 11,
   "outputs": [],
   "source": [
    "#定义模型训练函数\n",
    "def train(net, train_iter, test_iter, num_epochs, batch_size,\n",
    "              params, optimizer = None):\n",
    "    train_set, test_set = [], []\n",
    "    for epoch in range(num_epochs):\n",
    "        train_l_sum, train_acc_sum, n = 0.0, 0.0, 0\n",
    "        for X, y_hat in train_iter:\n",
    "            y = net(X)\n",
    "            yt=softmax(y)\n",
    "            l = loss(y,y_hat).sum()\n",
    "\n",
    "            # 梯度清零\n",
    "            if optimizer is not None:\n",
    "                optimizer.zero_grad() # 这里我们用到优化器，所以直接对优化器行梯度清零\n",
    "            elif params is not None and params[0].grad is not None:\n",
    "                for param in params:\n",
    "                    param.grad.data.zero_()\n",
    "\n",
    "            l.backward()\n",
    "            if optimizer is None:\n",
    "                sgd(params, lr, batch_size)\n",
    "            else:\n",
    "                optimizer.step()  # 用到优化器这里\n",
    "\n",
    "\n",
    "            train_l_sum += l.item()\n",
    "            train_acc_sum += (yt.argmax(dim=1) == y_hat).sum().item()\n",
    "            n += y_hat.shape[0]\n",
    "        test_acc = evaluate_accuracy(test_iter, net)\n",
    "        print('epoch %d, loss %.4f, train acc %.3f, test acc %.3f'\n",
    "              % (epoch + 1, train_l_sum / n, train_acc_sum / n, test_acc))\n",
    "\n",
    "        # 记录loss\n",
    "        train_item, test_item =  float(train_l_sum/n), float(test_acc)\n",
    "        train_set.append(train_item)\n",
    "        test_set.append(test_item)\n",
    "\n",
    "    return train_set, test_set"
   ],
   "metadata": {
    "collapsed": false
   }
  },
  {
   "cell_type": "code",
   "execution_count": 12,
   "outputs": [],
   "source": [
    "# 模型loss画图\n",
    "def plot_loss(train_loss, val_loss):\n",
    "    epochs = len(train_loss)\n",
    "    x = range(epochs)\n",
    "    plt.plot(x, train_loss, label='Train')\n",
    "    plt.plot(x, val_loss, label='Validation')\n",
    "    plt.xlabel('Epoch')\n",
    "    plt.ylabel('Loss')\n",
    "    plt.legend()\n",
    "    plt.show()"
   ],
   "metadata": {
    "collapsed": false
   }
  },
  {
   "cell_type": "code",
   "execution_count": 13,
   "outputs": [
    {
     "name": "stdout",
     "output_type": "stream",
     "text": [
      "epoch 1, loss 0.0180, train acc 0.110, test acc 0.103\n",
      "epoch 2, loss 0.0180, train acc 0.150, test acc 0.112\n",
      "epoch 3, loss 0.0179, train acc 0.200, test acc 0.343\n",
      "epoch 4, loss 0.0179, train acc 0.223, test acc 0.404\n",
      "epoch 5, loss 0.0179, train acc 0.351, test acc 0.483\n",
      "epoch 6, loss 0.0179, train acc 0.422, test acc 0.484\n",
      "epoch 7, loss 0.0178, train acc 0.439, test acc 0.451\n",
      "epoch 8, loss 0.0178, train acc 0.457, test acc 0.424\n",
      "epoch 9, loss 0.0177, train acc 0.474, test acc 0.530\n",
      "epoch 10, loss 0.0177, train acc 0.489, test acc 0.628\n",
      "epoch 11, loss 0.0176, train acc 0.535, test acc 0.489\n",
      "epoch 12, loss 0.0176, train acc 0.497, test acc 0.485\n",
      "epoch 13, loss 0.0175, train acc 0.512, test acc 0.558\n",
      "epoch 14, loss 0.0174, train acc 0.527, test acc 0.531\n",
      "epoch 15, loss 0.0173, train acc 0.542, test acc 0.543\n",
      "epoch 16, loss 0.0172, train acc 0.520, test acc 0.526\n",
      "epoch 17, loss 0.0170, train acc 0.536, test acc 0.478\n",
      "epoch 18, loss 0.0169, train acc 0.503, test acc 0.520\n",
      "epoch 19, loss 0.0167, train acc 0.539, test acc 0.445\n",
      "epoch 20, loss 0.0165, train acc 0.493, test acc 0.474\n"
     ]
    },
    {
     "data": {
      "text/plain": "<Figure size 640x480 with 1 Axes>",
      "image/png": "[encoded data removed]"
     },
     "metadata": {},
     "output_type": "display_data"
    }
   ],
   "source": [
    "## 模型训练\n",
    "lr = 0.1\n",
    "num_epochs = 20 # 迭代次数\n",
    "trains, tests = train(net, train_iter, test_iter,  num_epochs, batch_size, params)\n",
    "\n",
    "plot_loss(trains, tests)"
   ],
   "metadata": {
    "collapsed": false
   }
  },
  {
   "cell_type": "code",
   "execution_count": 13,
   "outputs": [],
   "source": [],
   "metadata": {
    "collapsed": false
   }
  },
  {
   "cell_type": "markdown",
   "source": [],
   "metadata": {
    "collapsed": false
   }
  }
 ],
 "metadata": {
  "kernelspec": {
   "display_name": "Python 3",
   "language": "python",
   "name": "python3"
  },
  "language_info": {
   "codemirror_mode": {
    "name": "ipython",
    "version": 2
   },
   "file_extension": ".py",
   "mimetype": "text/x-python",
   "name": "python",
   "nbconvert_exporter": "python",
   "pygments_lexer": "ipython2",
   "version": "2.7.6"
  }
 },
 "nbformat": 4,
 "nbformat_minor": 0
}
